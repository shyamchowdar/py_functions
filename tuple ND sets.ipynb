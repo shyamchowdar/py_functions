{
 "cells": [
  {
   "cell_type": "code",
   "execution_count": 6,
   "id": "8405cbc3",
   "metadata": {},
   "outputs": [
    {
     "name": "stdout",
     "output_type": "stream",
     "text": [
      "1\n"
     ]
    },
    {
     "data": {
      "text/plain": [
       "2"
      ]
     },
     "execution_count": 6,
     "metadata": {},
     "output_type": "execute_result"
    }
   ],
   "source": [
    "tuple1,tuple2=([1,2])\n",
    "print(tuple1)\n",
    "tuple2"
   ]
  },
  {
   "cell_type": "code",
   "execution_count": 7,
   "id": "efd1d291",
   "metadata": {},
   "outputs": [
    {
     "data": {
      "text/plain": [
       "[2]"
      ]
     },
     "execution_count": 7,
     "metadata": {},
     "output_type": "execute_result"
    }
   ],
   "source": [
    "tuple2_=([2,])\n",
    "tuple2_"
   ]
  },
  {
   "cell_type": "code",
   "execution_count": 10,
   "id": "e370b4fe",
   "metadata": {},
   "outputs": [
    {
     "data": {
      "text/plain": [
       "(1, 2, 3, 4, 5, ['str1', 'str2', 'str3'], 1.2, 2.1, 3.1)"
      ]
     },
     "execution_count": 10,
     "metadata": {},
     "output_type": "execute_result"
    }
   ],
   "source": [
    "tuple1_=(1,2,3,4,5,['str1','str2','str3'],1.2,2.1,3.1)\n",
    "tuple1_"
   ]
  },
  {
   "cell_type": "code",
   "execution_count": 12,
   "id": "5cdf4633",
   "metadata": {},
   "outputs": [
    {
     "data": {
      "text/plain": [
       "1"
      ]
     },
     "execution_count": 12,
     "metadata": {},
     "output_type": "execute_result"
    }
   ],
   "source": [
    "tuple1_.count(2)"
   ]
  },
  {
   "cell_type": "code",
   "execution_count": 77,
   "id": "6ff3eb72",
   "metadata": {},
   "outputs": [
    {
     "data": {
      "text/plain": [
       "5"
      ]
     },
     "execution_count": 77,
     "metadata": {},
     "output_type": "execute_result"
    }
   ],
   "source": [
    "tuple1_.index(['str1','str2','str3'])"
   ]
  },
  {
   "cell_type": "code",
   "execution_count": 24,
   "id": "0237f6f3",
   "metadata": {},
   "outputs": [
    {
     "name": "stdout",
     "output_type": "stream",
     "text": [
      "10\n",
      "5\n"
     ]
    }
   ],
   "source": [
    "var1=5\n",
    "var2=10\n",
    "var1,var2=(var2,var1)\n",
    "print(var1)\n",
    "print(var2)"
   ]
  },
  {
   "cell_type": "code",
   "execution_count": 26,
   "id": "9fcd1036",
   "metadata": {},
   "outputs": [],
   "source": [
    "#sort tuple\n",
    "# extract1,2\n",
    "tuple_=(4,6,3,2,1)"
   ]
  },
  {
   "cell_type": "code",
   "execution_count": 40,
   "id": "5b409262",
   "metadata": {},
   "outputs": [
    {
     "data": {
      "text/plain": [
       "[1, 2, 3, 4]"
      ]
     },
     "execution_count": 40,
     "metadata": {},
     "output_type": "execute_result"
    }
   ],
   "source": [
    "sorted(tuple_)[0:4]"
   ]
  },
  {
   "cell_type": "code",
   "execution_count": 51,
   "id": "4720acd2",
   "metadata": {},
   "outputs": [
    {
     "data": {
      "text/plain": [
       "set()"
      ]
     },
     "execution_count": 51,
     "metadata": {},
     "output_type": "execute_result"
    }
   ],
   "source": [
    "sset_=set()\n",
    "sset_"
   ]
  },
  {
   "cell_type": "code",
   "execution_count": 52,
   "id": "6357a20f",
   "metadata": {},
   "outputs": [
    {
     "data": {
      "text/plain": [
       "{1, '1.4', 2, 3, 4, 5, 'str2'}"
      ]
     },
     "execution_count": 52,
     "metadata": {},
     "output_type": "execute_result"
    }
   ],
   "source": [
    "set={1,2,3,5,4,'str2','1.4'}\n",
    "set"
   ]
  },
  {
   "cell_type": "code",
   "execution_count": 85,
   "id": "d533c4e9",
   "metadata": {},
   "outputs": [
    {
     "data": {
      "text/plain": [
       "{()}"
      ]
     },
     "execution_count": 85,
     "metadata": {},
     "output_type": "execute_result"
    }
   ],
   "source": [
    "type={()}\n",
    "type"
   ]
  },
  {
   "cell_type": "code",
   "execution_count": 73,
   "id": "f219aecb",
   "metadata": {},
   "outputs": [
    {
     "name": "stdout",
     "output_type": "stream",
     "text": [
      "{('heros', 'vilians', 'heroines')}\n"
     ]
    }
   ],
   "source": [
    "my_set={'heros','villain','heroine'}\n",
    "my_set={('heros','vilians','heroines')}\n",
    "print(my_set)"
   ]
  },
  {
   "cell_type": "code",
   "execution_count": 69,
   "id": "5aac17ab",
   "metadata": {},
   "outputs": [],
   "source": [
    "set1={1,2,3}\n",
    "set2={4,5,6}"
   ]
  },
  {
   "cell_type": "code",
   "execution_count": 68,
   "id": "caee3680",
   "metadata": {},
   "outputs": [
    {
     "data": {
      "text/plain": [
       "{1, 2, 3, 4, 5, 6}"
      ]
     },
     "execution_count": 68,
     "metadata": {},
     "output_type": "execute_result"
    }
   ],
   "source": [
    "set1=set1.union(set2)\n",
    "set1"
   ]
  },
  {
   "cell_type": "code",
   "execution_count": 61,
   "id": "ff9a4d33",
   "metadata": {},
   "outputs": [
    {
     "data": {
      "text/plain": [
       "True"
      ]
     },
     "execution_count": 61,
     "metadata": {},
     "output_type": "execute_result"
    }
   ],
   "source": [
    "set2.issubset(set1)"
   ]
  },
  {
   "cell_type": "code",
   "execution_count": 62,
   "id": "f82b648a",
   "metadata": {},
   "outputs": [
    {
     "data": {
      "text/plain": [
       "False"
      ]
     },
     "execution_count": 62,
     "metadata": {},
     "output_type": "execute_result"
    }
   ],
   "source": [
    "set2.issuperset(set1)"
   ]
  },
  {
   "cell_type": "code",
   "execution_count": 63,
   "id": "42ad9276",
   "metadata": {},
   "outputs": [
    {
     "data": {
      "text/plain": [
       "True"
      ]
     },
     "execution_count": 63,
     "metadata": {},
     "output_type": "execute_result"
    }
   ],
   "source": [
    "set1.issuperset(set2)"
   ]
  },
  {
   "cell_type": "code",
   "execution_count": 70,
   "id": "bb1a0db0",
   "metadata": {},
   "outputs": [
    {
     "data": {
      "text/plain": [
       "True"
      ]
     },
     "execution_count": 70,
     "metadata": {},
     "output_type": "execute_result"
    }
   ],
   "source": [
    "set2.isdisjoint(set1)"
   ]
  },
  {
   "cell_type": "code",
   "execution_count": 79,
   "id": "05645392",
   "metadata": {},
   "outputs": [
    {
     "name": "stdout",
     "output_type": "stream",
     "text": [
      "{'Bob'}\n"
     ]
    }
   ],
   "source": [
    "customers_a={'Alice','Bob','Charlie','Drave','Eve'}\n",
    "customers_b={'Bob','Dave','Frank','Grace','Hank'}\n",
    "common_customers = customers_a.intersection(customers_b)\n",
    "print(common_customers)"
   ]
  },
  {
   "cell_type": "code",
   "execution_count": 81,
   "id": "b508c3f8",
   "metadata": {},
   "outputs": [
    {
     "name": "stdout",
     "output_type": "stream",
     "text": [
      "{'Charlie', 'Grace', 'Alice', 'Hank', 'Eve', 'Frank', 'Drave', 'Dave'}\n"
     ]
    }
   ],
   "source": [
    "common_customers=customers_a.symmetric_difference(customers_b)\n",
    "print(common_customers)"
   ]
  },
  {
   "cell_type": "code",
   "execution_count": 86,
   "id": "b13516c8",
   "metadata": {},
   "outputs": [],
   "source": [
    "s={'alpha','charlie','beta'}"
   ]
  },
  {
   "cell_type": "code",
   "execution_count": 93,
   "id": "1b1ead2b",
   "metadata": {},
   "outputs": [
    {
     "data": {
      "text/plain": [
       "{'alpha', 'beta', 'charlie', 'delta'}"
      ]
     },
     "execution_count": 93,
     "metadata": {},
     "output_type": "execute_result"
    }
   ],
   "source": [
    "s1=s.copy()\n",
    "s1.add('delta')\n",
    "s1"
   ]
  },
  {
   "cell_type": "code",
   "execution_count": 114,
   "id": "1c458174",
   "metadata": {},
   "outputs": [],
   "source": [
    "fruits={'apple','banana','orange'}"
   ]
  },
  {
   "cell_type": "code",
   "execution_count": 115,
   "id": "18920d18",
   "metadata": {},
   "outputs": [
    {
     "data": {
      "text/plain": [
       "{'apple', 'banana', 'grapes', 'orange'}"
      ]
     },
     "execution_count": 115,
     "metadata": {},
     "output_type": "execute_result"
    }
   ],
   "source": [
    "fruits.add('grapes')\n",
    "fruits"
   ]
  },
  {
   "cell_type": "code",
   "execution_count": 116,
   "id": "fc13993b",
   "metadata": {},
   "outputs": [],
   "source": [
    "fruits.update([\"pear\",\"watermelon\"])"
   ]
  },
  {
   "cell_type": "code",
   "execution_count": 117,
   "id": "af6346a5",
   "metadata": {},
   "outputs": [
    {
     "name": "stdout",
     "output_type": "stream",
     "text": [
      "{'orange', 'grapes', 'watermelon', 'pear', 'banana', 'apple'}\n"
     ]
    }
   ],
   "source": [
    "print(fruits)"
   ]
  },
  {
   "cell_type": "code",
   "execution_count": 121,
   "id": "6b0ca560",
   "metadata": {},
   "outputs": [
    {
     "data": {
      "text/plain": [
       "{1, 2, 3, 'welcome'}"
      ]
     },
     "execution_count": 121,
     "metadata": {},
     "output_type": "execute_result"
    }
   ],
   "source": [
    "set={1,2,3}\n",
    "set.discard(4)\n",
    "set.add('welcome')\n",
    "set"
   ]
  },
  {
   "cell_type": "code",
   "execution_count": 122,
   "id": "8506b04f",
   "metadata": {},
   "outputs": [
    {
     "ename": "KeyError",
     "evalue": "'hello'",
     "output_type": "error",
     "traceback": [
      "\u001b[1;31m---------------------------------------------------------------------------\u001b[0m",
      "\u001b[1;31mKeyError\u001b[0m                                  Traceback (most recent call last)",
      "\u001b[1;32m~\\AppData\\Local\\Temp\\ipykernel_14344\\1052498557.py\u001b[0m in \u001b[0;36m<module>\u001b[1;34m\u001b[0m\n\u001b[1;32m----> 1\u001b[1;33m \u001b[0mset\u001b[0m\u001b[1;33m.\u001b[0m\u001b[0mremove\u001b[0m\u001b[1;33m(\u001b[0m\u001b[1;34m'hello'\u001b[0m\u001b[1;33m)\u001b[0m\u001b[1;33m\u001b[0m\u001b[1;33m\u001b[0m\u001b[0m\n\u001b[0m",
      "\u001b[1;31mKeyError\u001b[0m: 'hello'"
     ]
    }
   ],
   "source": [
    "set.remove('hello')"
   ]
  },
  {
   "cell_type": "code",
   "execution_count": 2,
   "id": "9e297663",
   "metadata": {},
   "outputs": [],
   "source": [
    "candy_list=['ketchup','souce','harsheys','ketchup']"
   ]
  },
  {
   "cell_type": "code",
   "execution_count": 3,
   "id": "531d5e57",
   "metadata": {},
   "outputs": [
    {
     "data": {
      "text/plain": [
       "['ketchup', 'souce', 'harsheys']"
      ]
     },
     "execution_count": 3,
     "metadata": {},
     "output_type": "execute_result"
    }
   ],
   "source": [
    "candy_unique=list(set(candy_list))\n",
    "candy_unique"
   ]
  }
 ],
 "metadata": {
  "kernelspec": {
   "display_name": "Python 3 (ipykernel)",
   "language": "python",
   "name": "python3"
  },
  "language_info": {
   "codemirror_mode": {
    "name": "ipython",
    "version": 3
   },
   "file_extension": ".py",
   "mimetype": "text/x-python",
   "name": "python",
   "nbconvert_exporter": "python",
   "pygments_lexer": "ipython3",
   "version": "3.9.13"
  }
 },
 "nbformat": 4,
 "nbformat_minor": 5
}
