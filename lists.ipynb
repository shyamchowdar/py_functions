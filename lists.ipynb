{
 "cells": [
  {
   "cell_type": "code",
   "execution_count": 1,
   "id": "e6de58db",
   "metadata": {},
   "outputs": [],
   "source": [
    "#creating an empty list"
   ]
  },
  {
   "cell_type": "code",
   "execution_count": 3,
   "id": "f07b4ac8",
   "metadata": {},
   "outputs": [
    {
     "data": {
      "text/plain": [
       "[]"
      ]
     },
     "execution_count": 3,
     "metadata": {},
     "output_type": "execute_result"
    }
   ],
   "source": [
    "list1=[]\n",
    "list1"
   ]
  },
  {
   "cell_type": "code",
   "execution_count": 6,
   "id": "60414467",
   "metadata": {},
   "outputs": [
    {
     "data": {
      "text/plain": [
       "[]"
      ]
     },
     "execution_count": 6,
     "metadata": {},
     "output_type": "execute_result"
    }
   ],
   "source": [
    "list2=list1\n",
    "list1"
   ]
  },
  {
   "cell_type": "code",
   "execution_count": 18,
   "id": "59371725",
   "metadata": {},
   "outputs": [
    {
     "name": "stdout",
     "output_type": "stream",
     "text": [
      "[1, 2, 3, 4, 5]\n",
      "['str1', 'str2', 'str3']\n",
      "[1.23, 3.14, 2.96]\n"
     ]
    }
   ],
   "source": [
    "list1=[1,2,3,4,5]\n",
    "print(list1)\n",
    "list2=['str1','str2','str3']\n",
    "print(list2)\n",
    "list3=[1.23,3.14,2.96]\n",
    "print(list3)"
   ]
  },
  {
   "cell_type": "code",
   "execution_count": 14,
   "id": "710f2802",
   "metadata": {},
   "outputs": [
    {
     "data": {
      "text/plain": [
       "[1.23, 3.14, 2.96]"
      ]
     },
     "execution_count": 14,
     "metadata": {},
     "output_type": "execute_result"
    }
   ],
   "source": [
    "list3"
   ]
  },
  {
   "cell_type": "code",
   "execution_count": 15,
   "id": "9494cf65",
   "metadata": {},
   "outputs": [
    {
     "data": {
      "text/plain": [
       "[1, 2, 3, 4, 5]"
      ]
     },
     "execution_count": 15,
     "metadata": {},
     "output_type": "execute_result"
    }
   ],
   "source": [
    "list1"
   ]
  },
  {
   "cell_type": "code",
   "execution_count": 16,
   "id": "8d11fc0f",
   "metadata": {},
   "outputs": [
    {
     "data": {
      "text/plain": [
       "['str1', 'str2', 'str3']"
      ]
     },
     "execution_count": 16,
     "metadata": {},
     "output_type": "execute_result"
    }
   ],
   "source": [
    "list2"
   ]
  },
  {
   "cell_type": "code",
   "execution_count": 75,
   "id": "528371fe",
   "metadata": {},
   "outputs": [],
   "source": [
    "list4=(1,2,3,4,5,'str1','str2(1.2,2,3.5)','str3',1.2,3.4,5.6)"
   ]
  },
  {
   "cell_type": "code",
   "execution_count": 78,
   "id": "f065e764",
   "metadata": {},
   "outputs": [],
   "source": [
    "print=[list4]"
   ]
  },
  {
   "cell_type": "code",
   "execution_count": 82,
   "id": "eaf06c80",
   "metadata": {},
   "outputs": [
    {
     "data": {
      "text/plain": [
       "5.6"
      ]
     },
     "execution_count": 82,
     "metadata": {},
     "output_type": "execute_result"
    }
   ],
   "source": [
    "list4[-9]\n",
    "list4[10]"
   ]
  },
  {
   "cell_type": "code",
   "execution_count": 72,
   "id": "3b03e96f",
   "metadata": {},
   "outputs": [
    {
     "data": {
      "text/plain": [
       "['avatar']"
      ]
     },
     "execution_count": 72,
     "metadata": {},
     "output_type": "execute_result"
    }
   ],
   "source": [
    "list1=['avatar']\n",
    "list1"
   ]
  },
  {
   "cell_type": "code",
   "execution_count": 33,
   "id": "ab75f2d1",
   "metadata": {},
   "outputs": [
    {
     "data": {
      "text/plain": [
       "['avatar', 'michael']"
      ]
     },
     "execution_count": 33,
     "metadata": {},
     "output_type": "execute_result"
    }
   ],
   "source": [
    "list1.append('michael')\n",
    "list1"
   ]
  },
  {
   "cell_type": "code",
   "execution_count": 34,
   "id": "910541c4",
   "metadata": {},
   "outputs": [
    {
     "data": {
      "text/plain": [
       "['avatar', 'michael', 'veera']"
      ]
     },
     "execution_count": 34,
     "metadata": {},
     "output_type": "execute_result"
    }
   ],
   "source": [
    "list1.append('veera')\n",
    "list1"
   ]
  },
  {
   "cell_type": "code",
   "execution_count": 37,
   "id": "266e0e4a",
   "metadata": {},
   "outputs": [
    {
     "data": {
      "text/plain": [
       "['michael', 'veera', 'avatar']"
      ]
     },
     "execution_count": 37,
     "metadata": {},
     "output_type": "execute_result"
    }
   ],
   "source": [
    "list1[0]='michael'\n",
    "list1[1]='veera'\n",
    "list1[2]='avatar'\n",
    "list1"
   ]
  },
  {
   "cell_type": "code",
   "execution_count": 38,
   "id": "56d0608f",
   "metadata": {},
   "outputs": [
    {
     "data": {
      "text/plain": [
       "['michael', 'veera', 'avatar', (1,)]"
      ]
     },
     "execution_count": 38,
     "metadata": {},
     "output_type": "execute_result"
    }
   ],
   "source": [
    "list1.append((1,))\n",
    "list1"
   ]
  },
  {
   "cell_type": "code",
   "execution_count": 2,
   "id": "dfcd30f6",
   "metadata": {},
   "outputs": [],
   "source": [
    "list5=['eat','sleeep','play']"
   ]
  },
  {
   "cell_type": "code",
   "execution_count": 5,
   "id": "2e3a10a8",
   "metadata": {},
   "outputs": [],
   "source": [
    "list5.insert(0,'wake')"
   ]
  },
  {
   "cell_type": "code",
   "execution_count": 7,
   "id": "119882ba",
   "metadata": {},
   "outputs": [
    {
     "data": {
      "text/plain": [
       "['wake', 'wake', 'wake', 'drink', 'drink', 'eat', 'sleeep', 'play']"
      ]
     },
     "execution_count": 7,
     "metadata": {},
     "output_type": "execute_result"
    }
   ],
   "source": [
    "list5.insert(3,'drink')\n",
    "list5"
   ]
  },
  {
   "cell_type": "code",
   "execution_count": 11,
   "id": "4628a4cc",
   "metadata": {},
   "outputs": [
    {
     "data": {
      "text/plain": [
       "['friend1', 'friend2', 'friend3', 'friend4']"
      ]
     },
     "execution_count": 11,
     "metadata": {},
     "output_type": "execute_result"
    }
   ],
   "source": [
    "list6=['friend1','friend2']\n",
    "list7=['friend3','friend4']\n",
    "list6.extend(list7)\n",
    "list6"
   ]
  },
  {
   "cell_type": "code",
   "execution_count": 12,
   "id": "0d208ff2",
   "metadata": {},
   "outputs": [],
   "source": [
    "list8=(1,2,3,4,5,6)"
   ]
  },
  {
   "cell_type": "code",
   "execution_count": 18,
   "id": "7b37b9b2",
   "metadata": {},
   "outputs": [
    {
     "data": {
      "text/plain": [
       "'index2'"
      ]
     },
     "execution_count": 18,
     "metadata": {},
     "output_type": "execute_result"
    }
   ],
   "source": [
    "list9=['index1','index2','index3']\n",
    "list9.remove('index1')\n",
    "list9.pop(0)"
   ]
  },
  {
   "cell_type": "code",
   "execution_count": 20,
   "id": "a8d56b66",
   "metadata": {},
   "outputs": [],
   "source": [
    "list_number=(1,3,2,4,6,5)"
   ]
  },
  {
   "cell_type": "code",
   "execution_count": 21,
   "id": "4ccd8feb",
   "metadata": {},
   "outputs": [
    {
     "data": {
      "text/plain": [
       "6"
      ]
     },
     "execution_count": 21,
     "metadata": {},
     "output_type": "execute_result"
    }
   ],
   "source": [
    "len(list_number)"
   ]
  },
  {
   "cell_type": "code",
   "execution_count": 22,
   "id": "72e41a2f",
   "metadata": {},
   "outputs": [
    {
     "data": {
      "text/plain": [
       "21"
      ]
     },
     "execution_count": 22,
     "metadata": {},
     "output_type": "execute_result"
    }
   ],
   "source": [
    "sum(list_number)"
   ]
  },
  {
   "cell_type": "code",
   "execution_count": 23,
   "id": "ad1ee0c3",
   "metadata": {},
   "outputs": [
    {
     "data": {
      "text/plain": [
       "6"
      ]
     },
     "execution_count": 23,
     "metadata": {},
     "output_type": "execute_result"
    }
   ],
   "source": [
    "max(list_number)"
   ]
  },
  {
   "cell_type": "code",
   "execution_count": 24,
   "id": "92e70f31",
   "metadata": {},
   "outputs": [
    {
     "data": {
      "text/plain": [
       "1"
      ]
     },
     "execution_count": 24,
     "metadata": {},
     "output_type": "execute_result"
    }
   ],
   "source": [
    "min(list_number)"
   ]
  },
  {
   "cell_type": "code",
   "execution_count": 29,
   "id": "cb03afaa",
   "metadata": {},
   "outputs": [],
   "source": [
    "list10=[1,2,3,5,4]"
   ]
  },
  {
   "cell_type": "code",
   "execution_count": 38,
   "id": "8cfc9c0c",
   "metadata": {},
   "outputs": [],
   "source": [
    "reverse=(list10)"
   ]
  },
  {
   "cell_type": "code",
   "execution_count": 47,
   "id": "220e369b",
   "metadata": {},
   "outputs": [
    {
     "ename": "AttributeError",
     "evalue": "'builtin_function_or_method' object has no attribute 'list10'",
     "output_type": "error",
     "traceback": [
      "\u001b[1;31m---------------------------------------------------------------------------\u001b[0m",
      "\u001b[1;31mAttributeError\u001b[0m                            Traceback (most recent call last)",
      "\u001b[1;32m~\\AppData\\Local\\Temp\\ipykernel_25548\\3947502513.py\u001b[0m in \u001b[0;36m<module>\u001b[1;34m\u001b[0m\n\u001b[1;32m----> 1\u001b[1;33m \u001b[0msorted\u001b[0m\u001b[1;33m.\u001b[0m\u001b[0mlist10\u001b[0m\u001b[1;33m(\u001b[0m\u001b[0mreversed\u001b[0m\u001b[1;33m=\u001b[0m\u001b[1;34m'True'\u001b[0m\u001b[1;33m)\u001b[0m\u001b[1;33m\u001b[0m\u001b[1;33m\u001b[0m\u001b[0m\n\u001b[0m",
      "\u001b[1;31mAttributeError\u001b[0m: 'builtin_function_or_method' object has no attribute 'list10'"
     ]
    }
   ],
   "source": []
  },
  {
   "cell_type": "code",
   "execution_count": null,
   "id": "8c4c900c",
   "metadata": {},
   "outputs": [],
   "source": []
  }
 ],
 "metadata": {
  "kernelspec": {
   "display_name": "Python 3 (ipykernel)",
   "language": "python",
   "name": "python3"
  },
  "language_info": {
   "codemirror_mode": {
    "name": "ipython",
    "version": 3
   },
   "file_extension": ".py",
   "mimetype": "text/x-python",
   "name": "python",
   "nbconvert_exporter": "python",
   "pygments_lexer": "ipython3",
   "version": "3.9.13"
  }
 },
 "nbformat": 4,
 "nbformat_minor": 5
}
