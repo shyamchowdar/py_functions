{
 "cells": [
  {
   "cell_type": "markdown",
   "id": "1a37ea51",
   "metadata": {},
   "source": [
    "# oops"
   ]
  },
  {
   "cell_type": "raw",
   "id": "437e3ebd",
   "metadata": {},
   "source": [
    "oops:\n",
    "    fundamental/primary member is an object\n",
    "    object is also called as instance\n",
    "    instance varaaibles: \n",
    "object:\n",
    "    anything can be called as object which can contain properties and perform certain actions\n",
    "    \n",
    "class====> blueprint=====> used as replicate to create multiple objects\n",
    "self====> it is a parameter it represents itself======>we will  use this parameter in class\n",
    "in each function written inside th class-->self should not go as the first parameter\n",
    "def hunt(self,\"animal\"):\n",
    "    return \"hunting animal\""
   ]
  },
  {
   "cell_type": "raw",
   "id": "6ef2be93",
   "metadata": {},
   "source": [
    "synatax for creating a class\n",
    "\n",
    "version1\n",
    "class ClassName: \n",
    "        pass                                prefernce-2\n",
    "    \n",
    "version2\n",
    "class ClassName():\n",
    "    pass                                    prefernce-3\n",
    "\n",
    "version3\n",
    "class ClassName(object):\n",
    "    pass                                   prefernce-1"
   ]
  },
  {
   "cell_type": "raw",
   "id": "bf8966fa",
   "metadata": {},
   "source": [
    "how to create object using class\n",
    "obj=ClassName()\n",
    "rule for writing className:\n",
    "    1)eachword in ClassName must start with captial letter"
   ]
  },
  {
   "cell_type": "code",
   "execution_count": 1,
   "id": "dc913448",
   "metadata": {},
   "outputs": [],
   "source": [
    "# documentation string\n",
    "class ClassName:\n",
    "        \"\"\"hai there\"\"\"\n",
    "        pass"
   ]
  },
  {
   "cell_type": "code",
   "execution_count": 11,
   "id": "67ffb2e5",
   "metadata": {},
   "outputs": [
    {
     "data": {
      "text/plain": [
       "__main__.ClassName"
      ]
     },
     "execution_count": 11,
     "metadata": {},
     "output_type": "execute_result"
    }
   ],
   "source": [
    "ClassName"
   ]
  },
  {
   "cell_type": "raw",
   "id": "dddf5c68",
   "metadata": {},
   "source": [
    "# intialization of object\n",
    "r1=resume()\n",
    "inbuilt  method--->__new__()==>two underscore on bothsides\n",
    "__new__ this  method responsible for creating the objects also called as constructor\n",
    "__new__ constructor==> after creating the object it will call another special method\n",
    "__init__==>intialize==>intializes the variable names and values of the objects"
   ]
  },
  {
   "cell_type": "code",
   "execution_count": 15,
   "id": "071034ae",
   "metadata": {},
   "outputs": [],
   "source": [
    "class resume(object):\n",
    "    \"\"\"\n",
    "    Template for resume\n",
    "    \"\"\"\n",
    "    def __init__(self, name, email, phno):\n",
    "        self.Name=name\n",
    "        self.EMAIL=email\n",
    "        self.phone=phno\n",
    "        \n",
    "    def setName(self, name):\n",
    "        self.name = name\n",
    "        \"\"\"\n",
    "        para name : sets new name to resume name parameter\n",
    "        \"\"\"\n",
    "        \n",
    "    def getName(self):\n",
    "        \"\"\"\n",
    "        returns name of the object resume name to user\n",
    "\n",
    "        \"\"\"\n",
    "        return self.name\n",
    "    \n",
    "    def getEmail(self):\n",
    "        \"\"\"\n",
    "        returns email to the user\n",
    "        \"\"\"\n",
    "        return self.email\n",
    "    \n",
    "    def setName(self, email):\n",
    "        self.name = name\n",
    "        \"\"\"\n",
    "        para name : sets new name to resume email parameter\n",
    "        \"\"\"\n",
    "        self.email= email"
   ]
  },
  {
   "cell_type": "code",
   "execution_count": 16,
   "id": "b3797da4",
   "metadata": {},
   "outputs": [],
   "source": [
    "r1=resume(\"shyam\", \"shyam@gmail.com\", \"6309521815\")"
   ]
  },
  {
   "cell_type": "code",
   "execution_count": 18,
   "id": "da8ef38d",
   "metadata": {},
   "outputs": [
    {
     "data": {
      "text/plain": [
       "'shyam'"
      ]
     },
     "execution_count": 18,
     "metadata": {},
     "output_type": "execute_result"
    }
   ],
   "source": [
    "r1.Name"
   ]
  },
  {
   "cell_type": "code",
   "execution_count": 19,
   "id": "c923fe2f",
   "metadata": {},
   "outputs": [
    {
     "data": {
      "text/plain": [
       "'shyam@gmail.com'"
      ]
     },
     "execution_count": 19,
     "metadata": {},
     "output_type": "execute_result"
    }
   ],
   "source": [
    "r1.EMAIL"
   ]
  },
  {
   "cell_type": "code",
   "execution_count": 20,
   "id": "4ded4b4a",
   "metadata": {
    "collapsed": true
   },
   "outputs": [
    {
     "name": "stdout",
     "output_type": "stream",
     "text": [
      "Help on resume in module __main__ object:\n",
      "\n",
      "class resume(builtins.object)\n",
      " |  resume(name, email, phno)\n",
      " |  \n",
      " |  Template for resume\n",
      " |  \n",
      " |  Methods defined here:\n",
      " |  \n",
      " |  __init__(self, name, email, phno)\n",
      " |      Initialize self.  See help(type(self)) for accurate signature.\n",
      " |  \n",
      " |  getEmail(self)\n",
      " |      returns email to the user\n",
      " |  \n",
      " |  getName(self)\n",
      " |      returns name of the object resume name to user\n",
      " |  \n",
      " |  setName(self, email)\n",
      " |  \n",
      " |  ----------------------------------------------------------------------\n",
      " |  Data descriptors defined here:\n",
      " |  \n",
      " |  __dict__\n",
      " |      dictionary for instance variables (if defined)\n",
      " |  \n",
      " |  __weakref__\n",
      " |      list of weak references to the object (if defined)\n",
      "\n"
     ]
    }
   ],
   "source": [
    "help(r1)"
   ]
  },
  {
   "cell_type": "code",
   "execution_count": 33,
   "id": "aa1ebec6",
   "metadata": {},
   "outputs": [],
   "source": [
    "#getter and setters method\n",
    "def getName(self):\n",
    "    return self.name\n",
    "def setName(self,name):\n",
    "    self.name=name"
   ]
  },
  {
   "cell_type": "raw",
   "id": "28fd711d",
   "metadata": {},
   "source": [
    "concepts in  OOPS:\n",
    "1) Class\n",
    "2) object\n",
    "3) polymorphism\n",
    "4) inheritence\n",
    "5) encapsulation\n",
    "6) abstraction"
   ]
  },
  {
   "cell_type": "markdown",
   "id": "515d6002",
   "metadata": {},
   "source": [
    "## polymorphism"
   ]
  },
  {
   "cell_type": "raw",
   "id": "74daff6c",
   "metadata": {},
   "source": [
    "poly= many\n",
    "\n",
    "morphing=changing / forms\n",
    "\n",
    "polymorphism= manyforms\n",
    "\n",
    "four types of arguments:\n",
    "    1) positional arguments\n",
    "    2) keyword arguments/ Default arguments\n",
    "    3) variable length arguments\n",
    "    4) vaarible length keyword arguments\n",
    "    \n",
    "python achives polymorphism using arguments:"
   ]
  },
  {
   "cell_type": "code",
   "execution_count": 25,
   "id": "1064141f",
   "metadata": {},
   "outputs": [],
   "source": [
    "class Lion(object):\n",
    "    \"\"\"\n",
    "    Lion class\n",
    "    \"\"\"\n",
    "    def __init__(self, breed, location, weight):\n",
    "        self.breed\n",
    "        self.location \n",
    "        self.weight\n",
    "    \n",
    "    def hunt(self, animal):\n",
    "        print(self, breed,+\"is hunting\"+ animal.name)"
   ]
  },
  {
   "cell_type": "code",
   "execution_count": 27,
   "id": "5aeb6ce5",
   "metadata": {},
   "outputs": [],
   "source": [
    "class Animal(object):\n",
    "    \"\"\"\n",
    "    Animal class\n",
    "    \"\"\"\n",
    "    def __init__(self, name):\n",
    "        self.name= name\n",
    "class human(object):\n",
    "    \"\"\"\n",
    "    human class\n",
    "    \"\"\"\n",
    "    def __init__(self, name):\n",
    "        self.name= name"
   ]
  },
  {
   "cell_type": "code",
   "execution_count": null,
   "id": "70e312e9",
   "metadata": {},
   "outputs": [],
   "source": []
  },
  {
   "cell_type": "code",
   "execution_count": null,
   "id": "5a065298",
   "metadata": {},
   "outputs": [],
   "source": []
  },
  {
   "cell_type": "code",
   "execution_count": null,
   "id": "07c6a051",
   "metadata": {},
   "outputs": [],
   "source": []
  },
  {
   "cell_type": "code",
   "execution_count": null,
   "id": "c65ada5c",
   "metadata": {},
   "outputs": [],
   "source": []
  },
  {
   "cell_type": "markdown",
   "id": "981c362d",
   "metadata": {},
   "source": [
    "\n",
    "## inheritance"
   ]
  },
  {
   "cell_type": "raw",
   "id": "b6c1a226",
   "metadata": {},
   "source": [
    "types of inheritance:\n",
    "    1) single level inheritance\n",
    "    2) multi level inheritance\n",
    "    3) multiple inheritance\n",
    "    4) hybrid inheritance\n",
    "object : object is the super class of all the objects in python\n",
    "    MRO=> method Resolution order"
   ]
  },
  {
   "cell_type": "code",
   "execution_count": 3,
   "id": "9f0e221e",
   "metadata": {},
   "outputs": [],
   "source": [
    "class Animal(object):\n",
    "    \"\"\"\n",
    "    animal class which inherits from object\n",
    "    \"\"\"\n",
    "    def __init__(self, animaltype, colour, weight):\n",
    "        self.animaltype=animaltype\n",
    "        self.colour=colour\n",
    "        self.weight=weight\n",
    "        \n",
    "    def eat(self, food):\n",
    "        \"\"\"\n",
    "        animal is eating food\n",
    "        \"\"\"\n",
    "        return  'eating'+food\n",
    "    def sleep(self):\n",
    "        \"\"\"\n",
    "        puts animal to sleep\n",
    "        \"\"\"\n",
    "        return 'sleeping'\n",
    "    def awake(self):\n",
    "        \"\"\"\n",
    "        awakes the animal from sleep\n",
    "        \"\"\"\n",
    "        return 'I am not sleeping'"
   ]
  },
  {
   "cell_type": "code",
   "execution_count": 4,
   "id": "30db970a",
   "metadata": {},
   "outputs": [],
   "source": [
    "class Lion(Animal):\n",
    "    \"\"\"\n",
    "    creating animal  class\n",
    "    \"\"\"\n",
    "    def __init__(self, breed):\n",
    "        self.breed=breed\n",
    "     \n",
    "    def __init__(self, animal):\n",
    "        \"\"\"\n",
    "        lion is hunting\n",
    "        \"\"\"\n",
    "        return  self.breed+'lion is hunting'+animal.animal\n",
    "    def __init__(self):\n",
    "        \"\"\"\n",
    "        roar\n",
    "        \"\"\"\n",
    "        return  'lion is roaring'\n",
    "    \n",
    "    def __init__(self):\n",
    "        \"\"\"\n",
    "        lion is eating\n",
    "        \"\"\"\n",
    "        return 'lion is roaring'"
   ]
  },
  {
   "cell_type": "code",
   "execution_count": 8,
   "id": "7eee786d",
   "metadata": {},
   "outputs": [],
   "source": [
    "class human(Animal):\n",
    "    \"\"\"\n",
    "    Human class\n",
    "    \"\"\"\n",
    "    def __init__(self,name):\n",
    "        \"\"\"\n",
    "        creating human class\n",
    "        \"\"\"\n",
    "        self.name=name\n",
    "    def study(self, subject):\n",
    "        return 'studying'\n",
    "    \n",
    "class  DEER(Animal):\n",
    "    \"\"\"\n",
    "    deer class\n",
    "    \"\"\"\n",
    "    def __init__(self, deertype):\n",
    "        self.deertype=deertype"
   ]
  },
  {
   "cell_type": "code",
   "execution_count": 9,
   "id": "4f046ee5",
   "metadata": {},
   "outputs": [],
   "source": [
    "class male(human):\n",
    "    \"\"\"\n",
    "    Gender male class\n",
    "    \"\"\"\n",
    "    def __init__(self, name):\n",
    "        self.name=name\n",
    "        \n",
    "    def watchipl(self):\n",
    "        return 'watching Ipl'\n",
    "    \n",
    "class female(human):\n",
    "    \"\"\"\n",
    "    Gender female class\n",
    "    \"\"\"\n",
    "    def __init__(self, name):\n",
    "        self.name=name\n",
    "    def WatchMovies(self):\n",
    "        return'watchingMovies'"
   ]
  },
  {
   "cell_type": "code",
   "execution_count": 10,
   "id": "e63dece6",
   "metadata": {},
   "outputs": [],
   "source": [
    "animal1=Animal('tiger', 'yellow', '380')\n",
    "animal2=Animal('cub', 'pale yellow','120')\n",
    "lion1=('asian')\n",
    "lion2=('african')\n",
    "human1=('shyam')\n",
    "human2=('gopi')\n",
    "DEER1=('arctic')\n",
    "DEER2=('antarctic')\n",
    "male1=('krishna')\n",
    "male2=('ram')\n",
    "female1=('sita')\n",
    "female2=('radha')"
   ]
  },
  {
   "cell_type": "code",
   "execution_count": 12,
   "id": "ceb6ef96",
   "metadata": {},
   "outputs": [
    {
     "data": {
      "text/plain": [
       "'eatingDEER'"
      ]
     },
     "execution_count": 12,
     "metadata": {},
     "output_type": "execute_result"
    }
   ],
   "source": [
    "animal1.eat('DEER')"
   ]
  },
  {
   "cell_type": "code",
   "execution_count": 11,
   "id": "7ef6abe6",
   "metadata": {},
   "outputs": [],
   "source": [
    "#method overloading( not avaliable in python): same function name ,writing it multiple times\n",
    "#but one can acheive method overloading using type of parameters to functions  \n",
    "#1)positional\n",
    "#2)keyword\n",
    "#3) variable length\n",
    "#4) variable keyword length\n",
    "#METHOD OVERRIDING:(avaliable in python)==> same function different classses\n",
    "class Animal(object):\n",
    "    def eat(Self):\n",
    "        return \"animal is eating\"\n",
    "class Lion(Animal):\n",
    "    def eat(self):\n",
    "        return \"animal is eating\""
   ]
  },
  {
   "cell_type": "code",
   "execution_count": 22,
   "id": "6712dfa5",
   "metadata": {},
   "outputs": [],
   "source": [
    "class Person:\n",
    "  def __init__(self, fname, lname):\n",
    "    self.firstname = fname\n",
    "    self.lastname = lname\n",
    "\n",
    "  def printname(self):\n",
    "    print(self.firstname, self.lastname)\n",
    "\n",
    "class Student(Person):\n",
    "  def __init__(self, fname, lname, year):\n",
    "    super().__init__(fname, lname)\n",
    "    self.graduationyear = year\n",
    "\n",
    "x = Student(\"shyam\", \"chicago\",\"2022\")"
   ]
  },
  {
   "cell_type": "code",
   "execution_count": 23,
   "id": "45895e4e",
   "metadata": {},
   "outputs": [
    {
     "name": "stdout",
     "output_type": "stream",
     "text": [
      "2022\n"
     ]
    }
   ],
   "source": [
    "print(x.graduationyear)"
   ]
  },
  {
   "cell_type": "markdown",
   "id": "496451d4",
   "metadata": {},
   "source": [
    "### abstraction "
   ]
  },
  {
   "cell_type": "code",
   "execution_count": 11,
   "id": "247e23e4",
   "metadata": {},
   "outputs": [],
   "source": [
    "#==> to hide implementation details\n",
    "#==> to enforce one user to implementation\n",
    "# i need to import from abc package , class name = ABC , abstract  method\n",
    "\n",
    "from abc import ABC, abstractmethod\n",
    "class Degree(ABC): #abstract base class\n",
    "    \"\"\"\n",
    "    Abstract class\n",
    "    \"\"\"\n",
    "    @abstractmethod\n",
    "    def ConductClasses(self):\n",
    "        \"\"\"\n",
    "        ConductClasses\n",
    "        \"\"\"\n",
    "        pass\n",
    "    \n",
    "    @abstractmethod\n",
    "    def assignments(self):\n",
    "        \"\"\"\n",
    "        assignments\n",
    "        \"\"\"\n",
    "        pass\n",
    "    \n",
    "    @abstractmethod\n",
    "    def ConductInternals(self):\n",
    "        \"\"\"\n",
    "        ConductInternals\n",
    "        \"\"\"\n",
    "        pass\n",
    "    \n",
    "    @abstractmethod\n",
    "    def ConductLabExams(self):\n",
    "        \"\"\"\n",
    "        conductLabExams\n",
    "        \"\"\"\n",
    "        pass\n",
    "    \n",
    "    @abstractmethod\n",
    "    def ConductQuiz(self):\n",
    "        \"\"\"\n",
    "        conductQuiz\n",
    "        \"\"\"\n",
    "        pass\n",
    "    \n",
    "    @abstractmethod\n",
    "    def ConductExams(self):\n",
    "        \"\"\"\n",
    "        conductExams\n",
    "        \"\"\"\n",
    "        pass\n",
    "    \n",
    "    @abstractmethod\n",
    "    def Project(self):\n",
    "        \"\"\"\n",
    "        project\n",
    "        \"\"\"\n",
    "        pass\n",
    "    "
   ]
  },
  {
   "cell_type": "code",
   "execution_count": 7,
   "id": "ef9f6a88",
   "metadata": {},
   "outputs": [],
   "source": [
    "class BTech(Degree):\n",
    "    def ConductClasses(self):\n",
    "        print(\"Conducting the Classes\")\n",
    "        \n",
    "    def ConductExams(self):\n",
    "        print(\" conducting exams\")\n",
    "        \n",
    "    def Project(self):\n",
    "        print(\"project work\")\n",
    "        \n",
    "    def ConductLabExams(self):\n",
    "        print(\"conducting Lab Exams\")\n",
    "        \n",
    "    def placements(self):\n",
    "        print(\"conduting placements\")\n",
    "        \n",
    "    def ConductQuiz(self):\n",
    "        print(\"conducting the quiz\")\n",
    "        \n",
    "    def ConductInternals(self):\n",
    "        print(\"conducting the internal\")\n",
    "        \n",
    "    def assignments(self):\n",
    "        print(\"conducting assignments\")"
   ]
  },
  {
   "cell_type": "code",
   "execution_count": 8,
   "id": "f7c9ec18",
   "metadata": {},
   "outputs": [],
   "source": [
    "b=BTech()"
   ]
  },
  {
   "cell_type": "code",
   "execution_count": 9,
   "id": "9c3656fc",
   "metadata": {},
   "outputs": [
    {
     "name": "stdout",
     "output_type": "stream",
     "text": [
      "conducting assignments\n"
     ]
    }
   ],
   "source": [
    "b.assignments()"
   ]
  },
  {
   "cell_type": "code",
   "execution_count": 16,
   "id": "75290a0c",
   "metadata": {},
   "outputs": [],
   "source": [
    "#==> inbuilt variable name:\\\n",
    " #   __name__\n",
    "    \n",
    "#==> it will store the name of module/ python file\n",
    "#==> python .py\n",
    "#==> it excutes any python file directly \n",
    "#                            __name__ variable is \"__main__\"\n",
    "# any python file/module for writing  code \n",
    "#1) write entire code in either in classes/functions\n",
    "#2) if needed to excute (run the program ) import whatever necessary and create one if condition using\n",
    "# if __name__ = \"__main__\"  if imported dont do it"
   ]
  },
  {
   "cell_type": "code",
   "execution_count": null,
   "id": "474a230d",
   "metadata": {},
   "outputs": [],
   "source": []
  },
  {
   "cell_type": "code",
   "execution_count": null,
   "id": "ef270899",
   "metadata": {},
   "outputs": [],
   "source": []
  },
  {
   "cell_type": "code",
   "execution_count": null,
   "id": "0e8613e3",
   "metadata": {},
   "outputs": [],
   "source": []
  }
 ],
 "metadata": {
  "kernelspec": {
   "display_name": "Python 3 (ipykernel)",
   "language": "python",
   "name": "python3"
  },
  "language_info": {
   "codemirror_mode": {
    "name": "ipython",
    "version": 3
   },
   "file_extension": ".py",
   "mimetype": "text/x-python",
   "name": "python",
   "nbconvert_exporter": "python",
   "pygments_lexer": "ipython3",
   "version": "3.9.13"
  }
 },
 "nbformat": 4,
 "nbformat_minor": 5
}
