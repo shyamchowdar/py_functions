{
 "cells": [
  {
   "cell_type": "code",
   "execution_count": 1,
   "id": "f274881c",
   "metadata": {},
   "outputs": [
    {
     "data": {
      "text/plain": [
       "dict"
      ]
     },
     "execution_count": 1,
     "metadata": {},
     "output_type": "execute_result"
    }
   ],
   "source": [
    "dict_1={}\n",
    "type({})"
   ]
  },
  {
   "cell_type": "code",
   "execution_count": 2,
   "id": "4fdf63b1",
   "metadata": {},
   "outputs": [
    {
     "data": {
      "text/plain": [
       "{}"
      ]
     },
     "execution_count": 2,
     "metadata": {},
     "output_type": "execute_result"
    }
   ],
   "source": [
    "dict_=dict()\n",
    "dict_"
   ]
  },
  {
   "cell_type": "code",
   "execution_count": 3,
   "id": "13ddce59",
   "metadata": {},
   "outputs": [
    {
     "data": {
      "text/plain": [
       "{'key': 2, 'key1': [1, 2, 3, 4, 5], 1: [1, 2, 3, 4, 5]}"
      ]
     },
     "execution_count": 3,
     "metadata": {},
     "output_type": "execute_result"
    }
   ],
   "source": [
    "dict_={'key':1,'key1':[1,2,3,4,5],1:[1,2,3,4,5],'key':2}\n",
    "dict_ "
   ]
  },
  {
   "cell_type": "code",
   "execution_count": 4,
   "id": "1ac4ed3d",
   "metadata": {},
   "outputs": [
    {
     "data": {
      "text/plain": [
       "{'word': 21, 'word21': [1, 2, 3, 4], 21: [1, 2, 3, 4]}"
      ]
     },
     "execution_count": 4,
     "metadata": {},
     "output_type": "execute_result"
    }
   ],
   "source": [
    "dict_={'word':21,'word21':[1,2,3,4],21:[1,2,3,4]}\n",
    "type(dict_)\n",
    "dict_ "
   ]
  },
  {
   "cell_type": "code",
   "execution_count": 21,
   "id": "b8c144f0",
   "metadata": {},
   "outputs": [
    {
     "name": "stdout",
     "output_type": "stream",
     "text": [
      "['shyam', 'm', 'kmm']\n"
     ]
    },
    {
     "data": {
      "text/plain": [
       "{'person1': ['shyam', 'm', 'kmm'], 'person2': ['monalisa', 'f', 'kmm']}"
      ]
     },
     "execution_count": 21,
     "metadata": {},
     "output_type": "execute_result"
    }
   ],
   "source": [
    "d={}\n",
    "d['person1']=['shyam','m','kmm']\n",
    "d['person2']=['monalisa','f','kmm']\n",
    "print(d ['person1'])\n",
    "d "
   ]
  },
  {
   "cell_type": "code",
   "execution_count": 5,
   "id": "78a6dd04",
   "metadata": {},
   "outputs": [
    {
     "data": {
      "text/plain": [
       "{'name': [], 'gender': [], 'age': []}"
      ]
     },
     "execution_count": 5,
     "metadata": {},
     "output_type": "execute_result"
    }
   ],
   "source": [
    "customer_database={'name':[],'gender':[],'age':[]}\n",
    "customer_database\n"
   ]
  },
  {
   "cell_type": "code",
   "execution_count": 7,
   "id": "5011c331",
   "metadata": {},
   "outputs": [
    {
     "data": {
      "text/plain": [
       "{'name': ['shyam'], 'gender': [], 'age': []}"
      ]
     },
     "execution_count": 7,
     "metadata": {},
     "output_type": "execute_result"
    }
   ],
   "source": [
    "customer_database['name'].append('shyam')\n",
    "customer_database"
   ]
  },
  {
   "cell_type": "code",
   "execution_count": 10,
   "id": "9ed39b12",
   "metadata": {},
   "outputs": [
    {
     "data": {
      "text/plain": [
       "('name', 'age', 'gender')"
      ]
     },
     "execution_count": 10,
     "metadata": {},
     "output_type": "execute_result"
    }
   ],
   "source": [
    "l='name','age','gender'\n",
    "l"
   ]
  },
  {
   "cell_type": "code",
   "execution_count": 28,
   "id": "ab430fbb",
   "metadata": {},
   "outputs": [
    {
     "data": {
      "text/plain": [
       "{'name': ['hi'], 'age': ['hi'], 'gender': ['hi']}"
      ]
     },
     "execution_count": 28,
     "metadata": {},
     "output_type": "execute_result"
    }
   ],
   "source": [
    "customer_database=dict().fromkeys(l,[])\n",
    "customer_database['name'].append('hi')\n",
    "customer_database"
   ]
  },
  {
   "cell_type": "code",
   "execution_count": 24,
   "id": "723b4042",
   "metadata": {},
   "outputs": [
    {
     "data": {
      "text/plain": [
       "('name', ['hi'])"
      ]
     },
     "execution_count": 24,
     "metadata": {},
     "output_type": "execute_result"
    }
   ],
   "source": [
    "customer_database.popitem()"
   ]
  },
  {
   "cell_type": "code",
   "execution_count": 3,
   "id": "c4d5c7fd",
   "metadata": {},
   "outputs": [
    {
     "name": "stdout",
     "output_type": "stream",
     "text": [
      "<class 'list'>\n",
      "key3\n"
     ]
    }
   ],
   "source": [
    "# create dictonary and check if the given value in the dictonary\n",
    "info={'key':[1,2,3],'key2':'orange','key3':'apple'}\n",
    "for i in info.values():\n",
    "    if type(i) is list:\n",
    "        \n",
    "        print (type(i))\n",
    "if 'apple' in info.values():\n",
    "    print('key3')\n",
    "else:\n",
    "    print('key1','key2')"
   ]
  },
  {
   "cell_type": "code",
   "execution_count": 1,
   "id": "6934e9cd",
   "metadata": {},
   "outputs": [
    {
     "name": "stdout",
     "output_type": "stream",
     "text": [
      "{'key1': 1, 'key2': 2, 'key3': 3, 'key4': 4}\n"
     ]
    }
   ],
   "source": [
    "# merging dictonaries in one line\n",
    "\n",
    "d1={'key1':1}\n",
    "d2={'key2':2}\n",
    "d3={'key3':3}\n",
    "d4={'key4':4}\n",
    "merge_dict=dict(**d1,**d2,**d3,**d4)\n",
    "print(merge_dict)"
   ]
  },
  {
   "cell_type": "code",
   "execution_count": 2,
   "id": "2ad12e18",
   "metadata": {},
   "outputs": [
    {
     "data": {
      "text/plain": [
       "[1, 1, 1, 1, 1, 1, 1, 1, 1, 1]"
      ]
     },
     "execution_count": 2,
     "metadata": {},
     "output_type": "execute_result"
    }
   ],
   "source": [
    "#list comphrension\n",
    "# concise for lops\n",
    "x=[1 for i in range(1,11)]\n",
    "x"
   ]
  },
  {
   "cell_type": "code",
   "execution_count": 6,
   "id": "84714390",
   "metadata": {
    "collapsed": true
   },
   "outputs": [
    {
     "data": {
      "text/plain": [
       "['odd',\n",
       " 2,\n",
       " 'odd',\n",
       " 4,\n",
       " 'odd',\n",
       " 6,\n",
       " 'odd',\n",
       " 8,\n",
       " 'odd',\n",
       " 10,\n",
       " 'odd',\n",
       " 12,\n",
       " 'odd',\n",
       " 14,\n",
       " 'odd',\n",
       " 16,\n",
       " 'odd',\n",
       " 18,\n",
       " 'odd',\n",
       " 20,\n",
       " 'odd',\n",
       " 22,\n",
       " 'odd',\n",
       " 24,\n",
       " 'odd',\n",
       " 26,\n",
       " 'odd',\n",
       " 28,\n",
       " 'odd',\n",
       " 30,\n",
       " 'odd',\n",
       " 32,\n",
       " 'odd',\n",
       " 34,\n",
       " 'odd',\n",
       " 36,\n",
       " 'odd',\n",
       " 38,\n",
       " 'odd',\n",
       " 40,\n",
       " 'odd',\n",
       " 42,\n",
       " 'odd',\n",
       " 44,\n",
       " 'odd',\n",
       " 46,\n",
       " 'odd',\n",
       " 48,\n",
       " 'odd',\n",
       " 50,\n",
       " 'odd',\n",
       " 52,\n",
       " 'odd',\n",
       " 54,\n",
       " 'odd',\n",
       " 56,\n",
       " 'odd',\n",
       " 58,\n",
       " 'odd',\n",
       " 60,\n",
       " 'odd',\n",
       " 62,\n",
       " 'odd',\n",
       " 64,\n",
       " 'odd',\n",
       " 66,\n",
       " 'odd',\n",
       " 68,\n",
       " 'odd',\n",
       " 70,\n",
       " 'odd',\n",
       " 72,\n",
       " 'odd',\n",
       " 74,\n",
       " 'odd',\n",
       " 76,\n",
       " 'odd',\n",
       " 78,\n",
       " 'odd',\n",
       " 80,\n",
       " 'odd',\n",
       " 82,\n",
       " 'odd',\n",
       " 84,\n",
       " 'odd',\n",
       " 86,\n",
       " 'odd',\n",
       " 88,\n",
       " 'odd',\n",
       " 90,\n",
       " 'odd',\n",
       " 92,\n",
       " 'odd',\n",
       " 94,\n",
       " 'odd',\n",
       " 96,\n",
       " 'odd',\n",
       " 98,\n",
       " 'odd',\n",
       " 100]"
      ]
     },
     "execution_count": 6,
     "metadata": {},
     "output_type": "execute_result"
    }
   ],
   "source": [
    "y=[i if i%2==0 else \"odd\" for i in range(1,101)]\n",
    "y"
   ]
  },
  {
   "cell_type": "code",
   "execution_count": 8,
   "id": "a83c4df7",
   "metadata": {},
   "outputs": [],
   "source": [
    "import random\n",
    "\n",
    "data=[random.randint(1,100)for i in range(100)]\n",
    "\n",
    "def max_(list_):\n",
    "    \"\"\"function to calculate the max number and return the no parameter:\n",
    "    list_1d collection\"\"\"\n",
    "    max_value=list_[0]\n",
    "    for i in list_:# check each and every value in container\n",
    "         if i<max_value:# \n",
    "            max_value=i\n",
    "    return max_value        \n"
   ]
  },
  {
   "cell_type": "code",
   "execution_count": 9,
   "id": "e7a90f76",
   "metadata": {},
   "outputs": [
    {
     "data": {
      "text/plain": [
       "1"
      ]
     },
     "execution_count": 9,
     "metadata": {},
     "output_type": "execute_result"
    }
   ],
   "source": [
    "max_(data)"
   ]
  },
  {
   "cell_type": "code",
   "execution_count": 17,
   "id": "feb6eaff",
   "metadata": {},
   "outputs": [],
   "source": [
    "import random\n",
    "\n",
    "data=[random.randint(1,100)for i in range(100)]\n",
    "\n",
    "def min_(list_):\n",
    "    \"\"\"function to calculate the min number and return the no parameter:\n",
    "    list_1d collection\"\"\"\n",
    "    min_value=list_[1]\n",
    "    for i in list_:\n",
    "         if i>min_value: \n",
    "            min_value=i\n",
    "    return min_value        \n"
   ]
  },
  {
   "cell_type": "code",
   "execution_count": 18,
   "id": "929d97ed",
   "metadata": {},
   "outputs": [
    {
     "data": {
      "text/plain": [
       "100"
      ]
     },
     "execution_count": 18,
     "metadata": {},
     "output_type": "execute_result"
    }
   ],
   "source": [
    "min_(data)"
   ]
  },
  {
   "cell_type": "code",
   "execution_count": 1,
   "id": "4362b634",
   "metadata": {},
   "outputs": [
    {
     "data": {
      "text/plain": [
       "['__class__',\n",
       " '__class_getitem__',\n",
       " '__contains__',\n",
       " '__delattr__',\n",
       " '__delitem__',\n",
       " '__dir__',\n",
       " '__doc__',\n",
       " '__eq__',\n",
       " '__format__',\n",
       " '__ge__',\n",
       " '__getattribute__',\n",
       " '__getitem__',\n",
       " '__gt__',\n",
       " '__hash__',\n",
       " '__init__',\n",
       " '__init_subclass__',\n",
       " '__ior__',\n",
       " '__iter__',\n",
       " '__le__',\n",
       " '__len__',\n",
       " '__lt__',\n",
       " '__ne__',\n",
       " '__new__',\n",
       " '__or__',\n",
       " '__reduce__',\n",
       " '__reduce_ex__',\n",
       " '__repr__',\n",
       " '__reversed__',\n",
       " '__ror__',\n",
       " '__setattr__',\n",
       " '__setitem__',\n",
       " '__sizeof__',\n",
       " '__str__',\n",
       " '__subclasshook__',\n",
       " 'clear',\n",
       " 'copy',\n",
       " 'fromkeys',\n",
       " 'get',\n",
       " 'items',\n",
       " 'keys',\n",
       " 'pop',\n",
       " 'popitem',\n",
       " 'setdefault',\n",
       " 'update',\n",
       " 'values']"
      ]
     },
     "execution_count": 1,
     "metadata": {},
     "output_type": "execute_result"
    }
   ],
   "source": [
    "dir(dict)"
   ]
  },
  {
   "cell_type": "code",
   "execution_count": 2,
   "id": "f125c49e",
   "metadata": {},
   "outputs": [
    {
     "name": "stdout",
     "output_type": "stream",
     "text": [
      "{'yellow'}\n"
     ]
    }
   ],
   "source": [
    "set1={\"yellow\",\"orange\",}\n",
    "set2={\"orange\",\"black\"}\n",
    "set1.difference_update(set2)\n",
    "print(set1)"
   ]
  },
  {
   "cell_type": "code",
   "execution_count": null,
   "id": "5be29729",
   "metadata": {},
   "outputs": [],
   "source": []
  }
 ],
 "metadata": {
  "kernelspec": {
   "display_name": "Python 3 (ipykernel)",
   "language": "python",
   "name": "python3"
  },
  "language_info": {
   "codemirror_mode": {
    "name": "ipython",
    "version": 3
   },
   "file_extension": ".py",
   "mimetype": "text/x-python",
   "name": "python",
   "nbconvert_exporter": "python",
   "pygments_lexer": "ipython3",
   "version": "3.9.13"
  }
 },
 "nbformat": 4,
 "nbformat_minor": 5
}
