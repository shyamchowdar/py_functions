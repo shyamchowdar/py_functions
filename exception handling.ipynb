{
 "cells": [
  {
   "cell_type": "markdown",
   "id": "9c669ac9",
   "metadata": {},
   "source": [
    "# exception handling"
   ]
  },
  {
   "cell_type": "raw",
   "id": "a028d8f9",
   "metadata": {},
   "source": [
    "# Exception Handling and enception(error) Handling\n",
    "# Error: we can not handle errors via programs(syntax error,indentation error,logical error)\n",
    "#exception: we can handle errors bia programs\n",
    "# BLOCKS:\n",
    "  # try block: if any code is  prone to error , write inside try block\n",
    "  #  try:\n",
    "   #     <python code>\n",
    "# for decreasing indentation ,ctrl+[\n",
    "# for increasing indentation,ctrl+]\n",
    "\n",
    "#except Block\n",
    "# <ecxeption error>"
   ]
  },
  {
   "cell_type": "code",
   "execution_count": 7,
   "id": "aeabe108",
   "metadata": {},
   "outputs": [
    {
     "name": "stdout",
     "output_type": "stream",
     "text": [
      "enter a number: 12\n",
      "enter another number:0\n",
      "an exception occured\n"
     ]
    }
   ],
   "source": [
    "try:\n",
    "    a=int(input(\"enter a number: \"))\n",
    "    b=int(input(\"enter another number:\"))\n",
    "    a/b\n",
    "    print(\"hello world\")\n",
    "except:\n",
    "    print(\"an exception occured\")"
   ]
  },
  {
   "cell_type": "raw",
   "id": "0b232dc5",
   "metadata": {},
   "source": [
    "# to handle specific exptions\n",
    "#          except exceptionrlame:\n",
    "#                   <excepion handling code>"
   ]
  },
  {
   "cell_type": "code",
   "execution_count": 14,
   "id": "8d6ac006",
   "metadata": {},
   "outputs": [
    {
     "name": "stdout",
     "output_type": "stream",
     "text": [
      "enter a number: 1\n",
      "enter another number:12dsd\n",
      "enter only integers\n"
     ]
    }
   ],
   "source": [
    "try:\n",
    "    a=int(input(\"enter a number: \"))\n",
    "    b=int(input(\"enter another number:\"))\n",
    "    a/b\n",
    "    print(\"hello world\")\n",
    "except ZeroDivisionError:\n",
    "    print(\"ZeroDivisionError an exception occured\")\n",
    "except :\n",
    "    print(\"enter only integers\")"
   ]
  },
  {
   "cell_type": "raw",
   "id": "6126909b",
   "metadata": {},
   "source": [
    "#except block without any specific exception name will handle all the exceptions\n",
    "# this is called as default except block\n",
    "#Note:if both specific except block exist then write default except block only after all specific\n",
    "# exception blocks"
   ]
  },
  {
   "cell_type": "code",
   "execution_count": 17,
   "id": "5dad286b",
   "metadata": {},
   "outputs": [
    {
     "name": "stdout",
     "output_type": "stream",
     "text": [
      "enter a number: 1\n",
      "enter another number:0\n",
      "ZeroDivisionError an exception occured\n"
     ]
    }
   ],
   "source": [
    "# when handling exceptions make sure that,\n",
    "# child exception must  come first,before \n",
    "# other wise any child specific exception only parents handles.\n",
    "try:\n",
    "    a=int(input(\"enter a number: \"))\n",
    "    b=int(input(\"enter another number:\"))\n",
    "    a/b\n",
    "    print(\"hello world\")\n",
    "except ZeroDivisionError:\n",
    "    print(\"ZeroDivisionError an exception occured\")\n",
    "except ZeroDivisionError:\n",
    "    print(\"enter only integers\")\n",
    "except:\n",
    "    print(\"unknown error\")"
   ]
  },
  {
   "cell_type": "raw",
   "id": "b460ba13",
   "metadata": {},
   "source": [
    "# else block:\n",
    "#           else block will get executed in exception handle,if no exceptio occurs\n",
    "#-> else block  must be at the end of all except blocks\n",
    "#-> else block can be written with atleast  one  except block\n",
    "#                   valid syntaxs\n",
    "#try:                   try:                   try:\n",
    "#    <---->               <----->                 <----->\n",
    "#except:               else:                  else:\n",
    "#    <------>              <---->                 <----->\n",
    "#else:                                        except:\n",
    "#    <----->                                      <----->"
   ]
  },
  {
   "cell_type": "raw",
   "id": "3f9d083a",
   "metadata": {},
   "source": [
    "# finally  block:\n",
    "#            finally block execute always (it will not handle exceptions)\n",
    "#                   valid synataxs\n",
    "# try:                       try:                     try:                        try:\n",
    "#    <------>                    <----->                <------->                   <------->\n",
    "# finally:                    except:                except:                     except\n",
    "#    <------>                    <----->                  <------>                   <------->\n",
    "#                             finally:                else:                      try: \n",
    "#                                 <----->                 <------->                  <-------->\n",
    "#                                                     finally                    except:\n",
    "#                                                         <------->                  <-------->"
   ]
  },
  {
   "cell_type": "code",
   "execution_count": 26,
   "id": "a1797df7",
   "metadata": {},
   "outputs": [
    {
     "name": "stdout",
     "output_type": "stream",
     "text": [
      "enter a number2\n"
     ]
    }
   ],
   "source": [
    "# raise keyword:\n",
    " #           raise is used to throw exceptions manually   (raise keyerror)\n",
    "    # special case for raise\n",
    "try:\n",
    "    a=int(input(\"enter a number\"))\n",
    "except ValueError:\n",
    "    raise "
   ]
  },
  {
   "cell_type": "code",
   "execution_count": 30,
   "id": "47de7fdf",
   "metadata": {},
   "outputs": [
    {
     "name": "stdout",
     "output_type": "stream",
     "text": [
      "enter a number: 221\n",
      "enter another number:43\n",
      "done\n",
      "hello world\n"
     ]
    }
   ],
   "source": [
    "try:\n",
    "    a=int(input(\"enter a number: \"))\n",
    "    b=int(input(\"enter another number:\"))\n",
    "    a/b\n",
    "except ZeroDivisionError:\n",
    "    raise\n",
    "    print(\"ZeroDivisionError an exception occured\")\n",
    "except ValueError:\n",
    "    print(\"enter only integers\")\n",
    "else:\n",
    "    print(\"done\")\n",
    "finally:\n",
    "    print(\"hello world\")"
   ]
  },
  {
   "cell_type": "code",
   "execution_count": 32,
   "id": "5236b095",
   "metadata": {},
   "outputs": [
    {
     "name": "stdout",
     "output_type": "stream",
     "text": [
      "enter a number: 21\n",
      "enter another number:wqdc\n",
      "hello world\n"
     ]
    },
    {
     "ename": "ValueError",
     "evalue": "invalid literal for int() with base 10: 'wqdc'",
     "output_type": "error",
     "traceback": [
      "\u001b[1;31m---------------------------------------------------------------------------\u001b[0m",
      "\u001b[1;31mValueError\u001b[0m                                Traceback (most recent call last)",
      "\u001b[1;32m~\\AppData\\Local\\Temp\\ipykernel_12528\\3840341520.py\u001b[0m in \u001b[0;36m<module>\u001b[1;34m\u001b[0m\n\u001b[0;32m      1\u001b[0m \u001b[1;32mtry\u001b[0m\u001b[1;33m:\u001b[0m\u001b[1;33m\u001b[0m\u001b[1;33m\u001b[0m\u001b[0m\n\u001b[0;32m      2\u001b[0m     \u001b[0ma\u001b[0m\u001b[1;33m=\u001b[0m\u001b[0mint\u001b[0m\u001b[1;33m(\u001b[0m\u001b[0minput\u001b[0m\u001b[1;33m(\u001b[0m\u001b[1;34m\"enter a number: \"\u001b[0m\u001b[1;33m)\u001b[0m\u001b[1;33m)\u001b[0m\u001b[1;33m\u001b[0m\u001b[1;33m\u001b[0m\u001b[0m\n\u001b[1;32m----> 3\u001b[1;33m     \u001b[0mb\u001b[0m\u001b[1;33m=\u001b[0m\u001b[0mint\u001b[0m\u001b[1;33m(\u001b[0m\u001b[0minput\u001b[0m\u001b[1;33m(\u001b[0m\u001b[1;34m\"enter another number:\"\u001b[0m\u001b[1;33m)\u001b[0m\u001b[1;33m)\u001b[0m\u001b[1;33m\u001b[0m\u001b[1;33m\u001b[0m\u001b[0m\n\u001b[0m\u001b[0;32m      4\u001b[0m     \u001b[0ma\u001b[0m\u001b[1;33m/\u001b[0m\u001b[0mb\u001b[0m\u001b[1;33m\u001b[0m\u001b[1;33m\u001b[0m\u001b[0m\n\u001b[0;32m      5\u001b[0m     \u001b[0mprint\u001b[0m\u001b[1;33m(\u001b[0m\u001b[1;34m\"after error Hello World\"\u001b[0m\u001b[1;33m)\u001b[0m\u001b[1;33m\u001b[0m\u001b[1;33m\u001b[0m\u001b[0m\n",
      "\u001b[1;31mValueError\u001b[0m: invalid literal for int() with base 10: 'wqdc'"
     ]
    }
   ],
   "source": [
    "try:\n",
    "    a=int(input(\"enter a number: \"))\n",
    "    b=int(input(\"enter another number:\"))\n",
    "    a/b\n",
    "    print(\"after error Hello World\")\n",
    "finally:\n",
    "    print(\"hello world\")"
   ]
  },
  {
   "cell_type": "raw",
   "id": "6c43c64a",
   "metadata": {},
   "source": [
    "# right order of block\n",
    "#try===>except ZeroDivisionError===>except ValueError===>except===>else===>finally\n",
    "#try===>except ValueError===>except ZeroDivisionError===>except===>else===>finally"
   ]
  },
  {
   "cell_type": "raw",
   "id": "161fa82d",
   "metadata": {},
   "source": [
    "errors:\n",
    "    raise keyerror\n",
    "    raise unbound local error\n",
    "    raise arithematic error\n",
    "    raise ZeroDivisionError\n",
    "    raise AssertionError\n",
    "    raise NameError\n",
    "    raise ValueError\n",
    "    raise IndexError\n",
    "    raise IndentationError\n",
    "    raise SyntaxError"
   ]
  },
  {
   "cell_type": "raw",
   "id": "5e184c4a",
   "metadata": {},
   "source": [
    "# file modes\n",
    "'r': read mode(it will open in read mode,you can read contents of file)(dafault mode)\n",
    "'w': write mode(it will create a new file,if already exists it will over write it)\n",
    "'a': append mode(already some data in it we want to write new data)\n",
    "'rb': read in binary mode\n",
    "'wb': write in binary mode\n",
    "'ab': append in binary mode\n",
    "'r+':to read and write data into the file\n",
    "'w+': to write and read(if used on file with existing data it  will over write )\n",
    "'a+': to append and read data from the file\n",
    "'rb+': read and write in binary format\n",
    "'wb+': writing annd reading in binary format\n",
    "'ab+': appending and reading in binary format\n",
    "'x': it creates file,if file already exist it throws errors"
   ]
  },
  {
   "cell_type": "raw",
   "id": "067165f7",
   "metadata": {},
   "source": [
    "'r'----> this is a read mode \n",
    "         this is default mode\n",
    "          if the file does not exist it throws errors"
   ]
  },
  {
   "cell_type": "raw",
   "id": "939eb4bd",
   "metadata": {},
   "source": [
    "'w'------> for writing the file we use it\n",
    "  1) create a new  file\n",
    "  2) if data already exists in a file it will erase data"
   ]
  },
  {
   "cell_type": "raw",
   "id": "0e170cdb",
   "metadata": {},
   "source": [
    "'append'-----> already some data in it we need to add some data to it"
   ]
  },
  {
   "cell_type": "code",
   "execution_count": 3,
   "id": "bf0bd408",
   "metadata": {},
   "outputs": [
    {
     "name": "stdout",
     "output_type": "stream",
     "text": [
      "file does not found\n"
     ]
    }
   ],
   "source": [
    "try:\n",
    "    f=open(\"batch_218_221.txt\")\n",
    "except FileNotFoundError:\n",
    "    print(\"file does not found\")"
   ]
  },
  {
   "cell_type": "code",
   "execution_count": 4,
   "id": "2a31e7bc",
   "metadata": {},
   "outputs": [],
   "source": [
    "try:\n",
    "    f=open(\"batch_218-221.txt\",\"w\")\n",
    "except:\n",
    "    print(\"this will never executed\")"
   ]
  },
  {
   "cell_type": "code",
   "execution_count": 5,
   "id": "95a67b3c",
   "metadata": {},
   "outputs": [
    {
     "data": {
      "text/plain": [
       "False"
      ]
     },
     "execution_count": 5,
     "metadata": {},
     "output_type": "execute_result"
    }
   ],
   "source": [
    "f.closed"
   ]
  },
  {
   "cell_type": "code",
   "execution_count": 6,
   "id": "cdc8ac92",
   "metadata": {},
   "outputs": [
    {
     "data": {
      "text/plain": [
       "True"
      ]
     },
     "execution_count": 6,
     "metadata": {},
     "output_type": "execute_result"
    }
   ],
   "source": [
    "f.close()\n",
    "f.closed"
   ]
  },
  {
   "cell_type": "code",
   "execution_count": 7,
   "id": "c2334515",
   "metadata": {},
   "outputs": [],
   "source": [
    "# append way can  also create files if files does not exist.\n",
    "try:\n",
    "    f=open(\"batch_218_221.txt\",\"a\")\n",
    "except:\n",
    "    print(\"Q.will i execute or not?\")"
   ]
  },
  {
   "cell_type": "code",
   "execution_count": 8,
   "id": "8716c0ac",
   "metadata": {},
   "outputs": [
    {
     "data": {
      "text/plain": [
       "True"
      ]
     },
     "execution_count": 8,
     "metadata": {},
     "output_type": "execute_result"
    }
   ],
   "source": [
    "f.close()\n",
    "f.closed"
   ]
  },
  {
   "cell_type": "code",
   "execution_count": 9,
   "id": "ffe58ba4",
   "metadata": {},
   "outputs": [
    {
     "name": "stdout",
     "output_type": "stream",
     "text": [
      "checking for file closure False\n",
      "checking for file closure outside with statement True\n"
     ]
    }
   ],
   "source": [
    "# with statement automatically releases any resources which are opened\n",
    "with open(\"batch_218-221.txt\",\"w\")as fp:\n",
    "    print(\"checking for file closure\",fp.closed)\n",
    "print(\"checking for file closure outside with statement\",fp.closed)"
   ]
  },
  {
   "cell_type": "code",
   "execution_count": 12,
   "id": "b0a73c66",
   "metadata": {},
   "outputs": [],
   "source": [
    "# write a file\n",
    "# write method\n",
    "with open(\"batch_218_221.txt\",\"a\")as fp:\n",
    "    fp.write(\"hello batch_218_221\\n\")"
   ]
  },
  {
   "cell_type": "code",
   "execution_count": 13,
   "id": "9ec8f439",
   "metadata": {
    "collapsed": true
   },
   "outputs": [
    {
     "name": "stdout",
     "output_type": "stream",
     "text": [
      "Help on TextIOWrapper object:\n",
      "\n",
      "class TextIOWrapper(_TextIOBase)\n",
      " |  TextIOWrapper(buffer, encoding=None, errors=None, newline=None, line_buffering=False, write_through=False)\n",
      " |  \n",
      " |  Character and line based layer over a BufferedIOBase object, buffer.\n",
      " |  \n",
      " |  encoding gives the name of the encoding that the stream will be\n",
      " |  decoded or encoded with. It defaults to locale.getpreferredencoding(False).\n",
      " |  \n",
      " |  errors determines the strictness of encoding and decoding (see\n",
      " |  help(codecs.Codec) or the documentation for codecs.register) and\n",
      " |  defaults to \"strict\".\n",
      " |  \n",
      " |  newline controls how line endings are handled. It can be None, '',\n",
      " |  '\\n', '\\r', and '\\r\\n'.  It works as follows:\n",
      " |  \n",
      " |  * On input, if newline is None, universal newlines mode is\n",
      " |    enabled. Lines in the input can end in '\\n', '\\r', or '\\r\\n', and\n",
      " |    these are translated into '\\n' before being returned to the\n",
      " |    caller. If it is '', universal newline mode is enabled, but line\n",
      " |    endings are returned to the caller untranslated. If it has any of\n",
      " |    the other legal values, input lines are only terminated by the given\n",
      " |    string, and the line ending is returned to the caller untranslated.\n",
      " |  \n",
      " |  * On output, if newline is None, any '\\n' characters written are\n",
      " |    translated to the system default line separator, os.linesep. If\n",
      " |    newline is '' or '\\n', no translation takes place. If newline is any\n",
      " |    of the other legal values, any '\\n' characters written are translated\n",
      " |    to the given string.\n",
      " |  \n",
      " |  If line_buffering is True, a call to flush is implied when a call to\n",
      " |  write contains a newline character.\n",
      " |  \n",
      " |  Method resolution order:\n",
      " |      TextIOWrapper\n",
      " |      _TextIOBase\n",
      " |      _IOBase\n",
      " |      builtins.object\n",
      " |  \n",
      " |  Methods defined here:\n",
      " |  \n",
      " |  __init__(self, /, *args, **kwargs)\n",
      " |      Initialize self.  See help(type(self)) for accurate signature.\n",
      " |  \n",
      " |  __next__(self, /)\n",
      " |      Implement next(self).\n",
      " |  \n",
      " |  __repr__(self, /)\n",
      " |      Return repr(self).\n",
      " |  \n",
      " |  close(self, /)\n",
      " |      Flush and close the IO object.\n",
      " |      \n",
      " |      This method has no effect if the file is already closed.\n",
      " |  \n",
      " |  detach(self, /)\n",
      " |      Separate the underlying buffer from the TextIOBase and return it.\n",
      " |      \n",
      " |      After the underlying buffer has been detached, the TextIO is in an\n",
      " |      unusable state.\n",
      " |  \n",
      " |  fileno(self, /)\n",
      " |      Returns underlying file descriptor if one exists.\n",
      " |      \n",
      " |      OSError is raised if the IO object does not use a file descriptor.\n",
      " |  \n",
      " |  flush(self, /)\n",
      " |      Flush write buffers, if applicable.\n",
      " |      \n",
      " |      This is not implemented for read-only and non-blocking streams.\n",
      " |  \n",
      " |  isatty(self, /)\n",
      " |      Return whether this is an 'interactive' stream.\n",
      " |      \n",
      " |      Return False if it can't be determined.\n",
      " |  \n",
      " |  read(self, size=-1, /)\n",
      " |      Read at most n characters from stream.\n",
      " |      \n",
      " |      Read from underlying buffer until we have n characters or we hit EOF.\n",
      " |      If n is negative or omitted, read until EOF.\n",
      " |  \n",
      " |  readable(self, /)\n",
      " |      Return whether object was opened for reading.\n",
      " |      \n",
      " |      If False, read() will raise OSError.\n",
      " |  \n",
      " |  readline(self, size=-1, /)\n",
      " |      Read until newline or EOF.\n",
      " |      \n",
      " |      Returns an empty string if EOF is hit immediately.\n",
      " |  \n",
      " |  reconfigure(self, /, *, encoding=None, errors=None, newline=None, line_buffering=None, write_through=None)\n",
      " |      Reconfigure the text stream with new parameters.\n",
      " |      \n",
      " |      This also does an implicit stream flush.\n",
      " |  \n",
      " |  seek(self, cookie, whence=0, /)\n",
      " |      Change stream position.\n",
      " |      \n",
      " |      Change the stream position to the given byte offset. The offset is\n",
      " |      interpreted relative to the position indicated by whence.  Values\n",
      " |      for whence are:\n",
      " |      \n",
      " |      * 0 -- start of stream (the default); offset should be zero or positive\n",
      " |      * 1 -- current stream position; offset may be negative\n",
      " |      * 2 -- end of stream; offset is usually negative\n",
      " |      \n",
      " |      Return the new absolute position.\n",
      " |  \n",
      " |  seekable(self, /)\n",
      " |      Return whether object supports random access.\n",
      " |      \n",
      " |      If False, seek(), tell() and truncate() will raise OSError.\n",
      " |      This method may need to do a test seek().\n",
      " |  \n",
      " |  tell(self, /)\n",
      " |      Return current stream position.\n",
      " |  \n",
      " |  truncate(self, pos=None, /)\n",
      " |      Truncate file to size bytes.\n",
      " |      \n",
      " |      File pointer is left unchanged.  Size defaults to the current IO\n",
      " |      position as reported by tell().  Returns the new size.\n",
      " |  \n",
      " |  writable(self, /)\n",
      " |      Return whether object was opened for writing.\n",
      " |      \n",
      " |      If False, write() will raise OSError.\n",
      " |  \n",
      " |  write(self, text, /)\n",
      " |      Write string to stream.\n",
      " |      Returns the number of characters written (which is always equal to\n",
      " |      the length of the string).\n",
      " |  \n",
      " |  ----------------------------------------------------------------------\n",
      " |  Static methods defined here:\n",
      " |  \n",
      " |  __new__(*args, **kwargs) from builtins.type\n",
      " |      Create and return a new object.  See help(type) for accurate signature.\n",
      " |  \n",
      " |  ----------------------------------------------------------------------\n",
      " |  Data descriptors defined here:\n",
      " |  \n",
      " |  buffer\n",
      " |  \n",
      " |  closed\n",
      " |  \n",
      " |  encoding\n",
      " |      Encoding of the text stream.\n",
      " |      \n",
      " |      Subclasses should override.\n",
      " |  \n",
      " |  errors\n",
      " |      The error setting of the decoder or encoder.\n",
      " |      \n",
      " |      Subclasses should override.\n",
      " |  \n",
      " |  line_buffering\n",
      " |  \n",
      " |  name\n",
      " |  \n",
      " |  newlines\n",
      " |      Line endings translated so far.\n",
      " |      \n",
      " |      Only line endings translated during reading are considered.\n",
      " |      \n",
      " |      Subclasses should override.\n",
      " |  \n",
      " |  write_through\n",
      " |  \n",
      " |  ----------------------------------------------------------------------\n",
      " |  Methods inherited from _IOBase:\n",
      " |  \n",
      " |  __del__(...)\n",
      " |  \n",
      " |  __enter__(...)\n",
      " |  \n",
      " |  __exit__(...)\n",
      " |  \n",
      " |  __iter__(self, /)\n",
      " |      Implement iter(self).\n",
      " |  \n",
      " |  readlines(self, hint=-1, /)\n",
      " |      Return a list of lines from the stream.\n",
      " |      \n",
      " |      hint can be specified to control the number of lines read: no more\n",
      " |      lines will be read if the total size (in bytes/characters) of all\n",
      " |      lines so far exceeds hint.\n",
      " |  \n",
      " |  writelines(self, lines, /)\n",
      " |      Write a list of lines to stream.\n",
      " |      \n",
      " |      Line separators are not added, so it is usual for each of the\n",
      " |      lines provided to have a line separator at the end.\n",
      " |  \n",
      " |  ----------------------------------------------------------------------\n",
      " |  Data descriptors inherited from _IOBase:\n",
      " |  \n",
      " |  __dict__\n",
      "\n"
     ]
    }
   ],
   "source": [
    "help(fp)"
   ]
  },
  {
   "cell_type": "code",
   "execution_count": null,
   "id": "8ee54bcd",
   "metadata": {},
   "outputs": [],
   "source": [
    "fr=open(\"batch_218_221.txt\")"
   ]
  },
  {
   "cell_type": "code",
   "execution_count": null,
   "id": "262ea544",
   "metadata": {},
   "outputs": [],
   "source": []
  },
  {
   "cell_type": "code",
   "execution_count": null,
   "id": "d92816e3",
   "metadata": {},
   "outputs": [],
   "source": []
  },
  {
   "cell_type": "code",
   "execution_count": null,
   "id": "5612d604",
   "metadata": {},
   "outputs": [],
   "source": []
  },
  {
   "cell_type": "code",
   "execution_count": null,
   "id": "b2b5f64c",
   "metadata": {},
   "outputs": [],
   "source": []
  },
  {
   "cell_type": "code",
   "execution_count": null,
   "id": "16db2841",
   "metadata": {},
   "outputs": [],
   "source": []
  },
  {
   "cell_type": "code",
   "execution_count": null,
   "id": "2f72e648",
   "metadata": {},
   "outputs": [],
   "source": []
  },
  {
   "cell_type": "code",
   "execution_count": null,
   "id": "c242875e",
   "metadata": {},
   "outputs": [],
   "source": []
  },
  {
   "cell_type": "code",
   "execution_count": null,
   "id": "e74a3247",
   "metadata": {},
   "outputs": [],
   "source": []
  },
  {
   "cell_type": "code",
   "execution_count": null,
   "id": "4c33278c",
   "metadata": {},
   "outputs": [],
   "source": []
  },
  {
   "cell_type": "code",
   "execution_count": null,
   "id": "d44e1780",
   "metadata": {},
   "outputs": [],
   "source": []
  },
  {
   "cell_type": "code",
   "execution_count": null,
   "id": "c46ab8ff",
   "metadata": {},
   "outputs": [],
   "source": []
  },
  {
   "cell_type": "code",
   "execution_count": null,
   "id": "db0a549b",
   "metadata": {},
   "outputs": [],
   "source": []
  },
  {
   "cell_type": "code",
   "execution_count": null,
   "id": "a2225483",
   "metadata": {},
   "outputs": [],
   "source": []
  },
  {
   "cell_type": "code",
   "execution_count": null,
   "id": "d4925708",
   "metadata": {},
   "outputs": [],
   "source": []
  },
  {
   "cell_type": "code",
   "execution_count": null,
   "id": "92213873",
   "metadata": {},
   "outputs": [],
   "source": []
  }
 ],
 "metadata": {
  "kernelspec": {
   "display_name": "Python 3 (ipykernel)",
   "language": "python",
   "name": "python3"
  },
  "language_info": {
   "codemirror_mode": {
    "name": "ipython",
    "version": 3
   },
   "file_extension": ".py",
   "mimetype": "text/x-python",
   "name": "python",
   "nbconvert_exporter": "python",
   "pygments_lexer": "ipython3",
   "version": "3.9.13"
  }
 },
 "nbformat": 4,
 "nbformat_minor": 5
}
