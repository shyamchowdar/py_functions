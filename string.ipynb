{
 "cells": [
  {
   "cell_type": "code",
   "execution_count": 8,
   "id": "7e744711",
   "metadata": {},
   "outputs": [
    {
     "name": "stdout",
     "output_type": "stream",
     "text": [
      "hello shyam\n"
     ]
    }
   ],
   "source": [
    "my_string=\"hello shyam\"\n",
    "print(my_string)"
   ]
  },
  {
   "cell_type": "code",
   "execution_count": 1,
   "id": "3553d1b9",
   "metadata": {},
   "outputs": [
    {
     "name": "stdout",
     "output_type": "stream",
     "text": [
      "shyam alasyam\n"
     ]
    }
   ],
   "source": [
    "first_name=\"shyam\"\n",
    "last_name=\"alasyam\"\n",
    "full_name= first_name+\" \"+last_name \n",
    "print(full_name)"
   ]
  },
  {
   "cell_type": "code",
   "execution_count": 24,
   "id": "6dcb11be",
   "metadata": {},
   "outputs": [
    {
     "name": "stdout",
     "output_type": "stream",
     "text": [
      "number 132\n",
      "number 223\n",
      "32 + 23 = 3223\n"
     ]
    }
   ],
   "source": [
    "#input \n",
    "num1=int(input('number 1'))\n",
    "num2=int(input('number 2'))\n",
    "print(f'{num1} + {num2} = {num1+num2}')"
   ]
  },
  {
   "cell_type": "code",
   "execution_count": 27,
   "id": "dfe84814",
   "metadata": {},
   "outputs": [
    {
     "name": "stdout",
     "output_type": "stream",
     "text": [
      "<class 'int'>\n",
      "after type casting:<class 'int'>\n"
     ]
    }
   ],
   "source": [
    "print(type(num1))\n",
    "num1=int(num1)\n",
    "print(f'after type casting:{type(num1)}')"
   ]
  },
  {
   "cell_type": "code",
   "execution_count": 61,
   "id": "b1029c3a",
   "metadata": {},
   "outputs": [
    {
     "name": "stdout",
     "output_type": "stream",
     "text": [
      "python\n",
      "python programming\n",
      "gnimmargorp nohtyp\n"
     ]
    }
   ],
   "source": [
    "name='python programming'\n",
    "print(name[0:6])\n",
    "print(name[:])\n",
    "print(name[::-1])"
   ]
  },
  {
   "cell_type": "code",
   "execution_count": 1,
   "id": "3b924dee",
   "metadata": {},
   "outputs": [
    {
     "data": {
      "text/plain": [
       "['__add__',\n",
       " '__class__',\n",
       " '__contains__',\n",
       " '__delattr__',\n",
       " '__dir__',\n",
       " '__doc__',\n",
       " '__eq__',\n",
       " '__format__',\n",
       " '__ge__',\n",
       " '__getattribute__',\n",
       " '__getitem__',\n",
       " '__getnewargs__',\n",
       " '__gt__',\n",
       " '__hash__',\n",
       " '__init__',\n",
       " '__init_subclass__',\n",
       " '__iter__',\n",
       " '__le__',\n",
       " '__len__',\n",
       " '__lt__',\n",
       " '__mod__',\n",
       " '__mul__',\n",
       " '__ne__',\n",
       " '__new__',\n",
       " '__reduce__',\n",
       " '__reduce_ex__',\n",
       " '__repr__',\n",
       " '__rmod__',\n",
       " '__rmul__',\n",
       " '__setattr__',\n",
       " '__sizeof__',\n",
       " '__str__',\n",
       " '__subclasshook__',\n",
       " 'capitalize',\n",
       " 'casefold',\n",
       " 'center',\n",
       " 'count',\n",
       " 'encode',\n",
       " 'endswith',\n",
       " 'expandtabs',\n",
       " 'find',\n",
       " 'format',\n",
       " 'format_map',\n",
       " 'index',\n",
       " 'isalnum',\n",
       " 'isalpha',\n",
       " 'isascii',\n",
       " 'isdecimal',\n",
       " 'isdigit',\n",
       " 'isidentifier',\n",
       " 'islower',\n",
       " 'isnumeric',\n",
       " 'isprintable',\n",
       " 'isspace',\n",
       " 'istitle',\n",
       " 'isupper',\n",
       " 'join',\n",
       " 'ljust',\n",
       " 'lower',\n",
       " 'lstrip',\n",
       " 'maketrans',\n",
       " 'partition',\n",
       " 'removeprefix',\n",
       " 'removesuffix',\n",
       " 'replace',\n",
       " 'rfind',\n",
       " 'rindex',\n",
       " 'rjust',\n",
       " 'rpartition',\n",
       " 'rsplit',\n",
       " 'rstrip',\n",
       " 'split',\n",
       " 'splitlines',\n",
       " 'startswith',\n",
       " 'strip',\n",
       " 'swapcase',\n",
       " 'title',\n",
       " 'translate',\n",
       " 'upper',\n",
       " 'zfill']"
      ]
     },
     "execution_count": 1,
     "metadata": {},
     "output_type": "execute_result"
    }
   ],
   "source": [
    "dir(str)"
   ]
  },
  {
   "cell_type": "code",
   "execution_count": 3,
   "id": "b8e1f1c8",
   "metadata": {},
   "outputs": [
    {
     "name": "stdout",
     "output_type": "stream",
     "text": [
      "Help on method_descriptor:\n",
      "\n",
      "capitalize(self, /)\n",
      "    Return a capitalized version of the string.\n",
      "    \n",
      "    More specifically, make the first character have upper case and the rest lower\n",
      "    case.\n",
      "\n"
     ]
    }
   ],
   "source": [
    "help(str.capitalize)"
   ]
  },
  {
   "cell_type": "code",
   "execution_count": 5,
   "id": "093e104d",
   "metadata": {},
   "outputs": [],
   "source": [
    "name=('shyam')"
   ]
  },
  {
   "cell_type": "code",
   "execution_count": 8,
   "id": "b5e66bf7",
   "metadata": {},
   "outputs": [],
   "source": [
    "name1=name.capitalize()"
   ]
  },
  {
   "cell_type": "code",
   "execution_count": 7,
   "id": "769c42ff",
   "metadata": {},
   "outputs": [
    {
     "data": {
      "text/plain": [
       "('Shyam', 'shyam')"
      ]
     },
     "execution_count": 7,
     "metadata": {},
     "output_type": "execute_result"
    }
   ],
   "source": [
    "name1,name"
   ]
  },
  {
   "cell_type": "code",
   "execution_count": 9,
   "id": "c5330503",
   "metadata": {},
   "outputs": [
    {
     "data": {
      "text/plain": [
       "'string'"
      ]
     },
     "execution_count": 9,
     "metadata": {},
     "output_type": "execute_result"
    }
   ],
   "source": [
    "'stRiNG'.casefold()"
   ]
  },
  {
   "cell_type": "code",
   "execution_count": 11,
   "id": "20277cbb",
   "metadata": {},
   "outputs": [
    {
     "data": {
      "text/plain": [
       "'shutter'"
      ]
     },
     "execution_count": 11,
     "metadata": {},
     "output_type": "execute_result"
    }
   ],
   "source": [
    "'ShuTTER'.casefold()"
   ]
  },
  {
   "cell_type": "code",
   "execution_count": 15,
   "id": "803ec42c",
   "metadata": {},
   "outputs": [],
   "source": [
    "name='shyam'\n",
    "Last_name='alasyam'"
   ]
  },
  {
   "cell_type": "code",
   "execution_count": 16,
   "id": "533ac67a",
   "metadata": {},
   "outputs": [
    {
     "data": {
      "text/plain": [
       "'ashyamlshyamashyamsshyamyshyamashyamm'"
      ]
     },
     "execution_count": 16,
     "metadata": {},
     "output_type": "execute_result"
    }
   ],
   "source": [
    "name.join(Last_name)"
   ]
  },
  {
   "cell_type": "code",
   "execution_count": 17,
   "id": "093a6925",
   "metadata": {},
   "outputs": [],
   "source": [
    "str1='ramesh'\n",
    "str2='and suresh'\n",
    "str3='are friends'"
   ]
  },
  {
   "cell_type": "code",
   "execution_count": 25,
   "id": "ee6bfe67",
   "metadata": {},
   "outputs": [
    {
     "data": {
      "text/plain": [
       "'arameshnrameshdramesh rameshsrameshurameshrramesherameshsrameshh'"
      ]
     },
     "execution_count": 25,
     "metadata": {},
     "output_type": "execute_result"
    }
   ],
   "source": [
    "str1.join(str2)"
   ]
  },
  {
   "cell_type": "code",
   "execution_count": 26,
   "id": "fe74adfc",
   "metadata": {},
   "outputs": [
    {
     "data": {
      "text/plain": [
       "5"
      ]
     },
     "execution_count": 26,
     "metadata": {},
     "output_type": "execute_result"
    }
   ],
   "source": [
    "greeting=\"how happy are you\"\n",
    "greeting.find('appy')"
   ]
  },
  {
   "cell_type": "code",
   "execution_count": 27,
   "id": "a205c378",
   "metadata": {},
   "outputs": [
    {
     "data": {
      "text/plain": [
       "10"
      ]
     },
     "execution_count": 27,
     "metadata": {},
     "output_type": "execute_result"
    }
   ],
   "source": [
    "greeting.index('are')"
   ]
  },
  {
   "cell_type": "code",
   "execution_count": 34,
   "id": "f9a21c31",
   "metadata": {},
   "outputs": [
    {
     "data": {
      "text/plain": [
       "'this is a happy world'"
      ]
     },
     "execution_count": 34,
     "metadata": {},
     "output_type": "execute_result"
    }
   ],
   "source": [
    "greeting=\"this is a peace world\"\n",
    "greeting.replace('peace','happy')"
   ]
  },
  {
   "cell_type": "code",
   "execution_count": 35,
   "id": "8bf011ab",
   "metadata": {},
   "outputs": [
    {
     "data": {
      "text/plain": [
       "'uppercase'"
      ]
     },
     "execution_count": 35,
     "metadata": {},
     "output_type": "execute_result"
    }
   ],
   "source": [
    "'UPPERCASE'.lower()"
   ]
  },
  {
   "cell_type": "code",
   "execution_count": 36,
   "id": "533c1cc9",
   "metadata": {},
   "outputs": [
    {
     "data": {
      "text/plain": [
       "'WISH ME A LUCK'"
      ]
     },
     "execution_count": 36,
     "metadata": {},
     "output_type": "execute_result"
    }
   ],
   "source": [
    "'wish me a luck'.upper()"
   ]
  },
  {
   "cell_type": "code",
   "execution_count": 37,
   "id": "f3f1caff",
   "metadata": {},
   "outputs": [
    {
     "name": "stdout",
     "output_type": "stream",
     "text": [
      "enter you nameshyam\n"
     ]
    }
   ],
   "source": [
    "name=input('enter you name')"
   ]
  },
  {
   "cell_type": "code",
   "execution_count": 39,
   "id": "5c5f72f4",
   "metadata": {},
   "outputs": [
    {
     "data": {
      "text/plain": [
       "True"
      ]
     },
     "execution_count": 39,
     "metadata": {},
     "output_type": "execute_result"
    }
   ],
   "source": [
    "name.isupper()"
   ]
  },
  {
   "cell_type": "code",
   "execution_count": 40,
   "id": "aec92808",
   "metadata": {},
   "outputs": [
    {
     "data": {
      "text/plain": [
       "False"
      ]
     },
     "execution_count": 40,
     "metadata": {},
     "output_type": "execute_result"
    }
   ],
   "source": [
    "name.islower()"
   ]
  },
  {
   "cell_type": "code",
   "execution_count": 42,
   "id": "b9b2f154",
   "metadata": {},
   "outputs": [
    {
     "data": {
      "text/plain": [
       "False"
      ]
     },
     "execution_count": 42,
     "metadata": {},
     "output_type": "execute_result"
    }
   ],
   "source": [
    "'shyam@123'.isnumeric()"
   ]
  },
  {
   "cell_type": "code",
   "execution_count": 45,
   "id": "7029ab66",
   "metadata": {},
   "outputs": [
    {
     "data": {
      "text/plain": [
       "False"
      ]
     },
     "execution_count": 45,
     "metadata": {},
     "output_type": "execute_result"
    }
   ],
   "source": [
    "'shyam@123'.isalnum()"
   ]
  },
  {
   "cell_type": "code",
   "execution_count": 46,
   "id": "3b5736fc",
   "metadata": {},
   "outputs": [
    {
     "data": {
      "text/plain": [
       "True"
      ]
     },
     "execution_count": 46,
     "metadata": {},
     "output_type": "execute_result"
    }
   ],
   "source": [
    "'1234'.isnumeric()"
   ]
  },
  {
   "cell_type": "code",
   "execution_count": 47,
   "id": "d510f1fc",
   "metadata": {},
   "outputs": [
    {
     "data": {
      "text/plain": [
       "False"
      ]
     },
     "execution_count": 47,
     "metadata": {},
     "output_type": "execute_result"
    }
   ],
   "source": [
    "'1.0'.isdigit()"
   ]
  },
  {
   "cell_type": "code",
   "execution_count": 49,
   "id": "324c1a0a",
   "metadata": {},
   "outputs": [
    {
     "data": {
      "text/plain": [
       "False"
      ]
     },
     "execution_count": 49,
     "metadata": {},
     "output_type": "execute_result"
    }
   ],
   "source": [
    "'1.0'.isdecimal()"
   ]
  },
  {
   "cell_type": "code",
   "execution_count": 56,
   "id": "4e4c2b7c",
   "metadata": {},
   "outputs": [],
   "source": [
    "string=\"\"\" the .split() string that we are going to use is named as split \\\n",
    "that is very useful for splitting of any long sentances \\\n",
    "that we are going to us in longer formats. \"\"\" "
   ]
  },
  {
   "cell_type": "code",
   "execution_count": 57,
   "id": "74cbb80d",
   "metadata": {},
   "outputs": [
    {
     "data": {
      "text/plain": [
       "'the .split() string that we are going to use is named as split that is very useful for splitting of any long sentances that we are going to us in longer formats.'"
      ]
     },
     "execution_count": 57,
     "metadata": {},
     "output_type": "execute_result"
    }
   ],
   "source": [
    "string.strip()"
   ]
  },
  {
   "cell_type": "code",
   "execution_count": 58,
   "id": "0a481a28",
   "metadata": {},
   "outputs": [
    {
     "data": {
      "text/plain": [
       "'the .split() string that we are going to use is named as split that is very useful for splitting of any long sentances that we are going to us in longer formats. '"
      ]
     },
     "execution_count": 58,
     "metadata": {},
     "output_type": "execute_result"
    }
   ],
   "source": [
    "string.lstrip()"
   ]
  },
  {
   "cell_type": "code",
   "execution_count": 59,
   "id": "75e37573",
   "metadata": {},
   "outputs": [
    {
     "data": {
      "text/plain": [
       "' the .split() string that we are going to use is named as split that is very useful for splitting of any long sentances that we are going to us in longer formats.'"
      ]
     },
     "execution_count": 59,
     "metadata": {},
     "output_type": "execute_result"
    }
   ],
   "source": [
    "string.rstrip()"
   ]
  },
  {
   "cell_type": "code",
   "execution_count": 60,
   "id": "a7b7bd25",
   "metadata": {},
   "outputs": [
    {
     "data": {
      "text/plain": [
       "[' ',\n",
       " ' .split() string that we are going to use is named as split that is very useful for splitting of any long sentances that we are going to us in longer formats. ']"
      ]
     },
     "execution_count": 60,
     "metadata": {},
     "output_type": "execute_result"
    }
   ],
   "source": [
    "string.split(sep='the')"
   ]
  },
  {
   "cell_type": "code",
   "execution_count": 74,
   "id": "de0397ba",
   "metadata": {},
   "outputs": [],
   "source": [
    "movies='super man,spiderman,batman,heman,hanuman' "
   ]
  },
  {
   "cell_type": "code",
   "execution_count": 75,
   "id": "2eed28f3",
   "metadata": {},
   "outputs": [
    {
     "data": {
      "text/plain": [
       "['super man', 'spiderman', 'batman', 'heman', 'hanuman']"
      ]
     },
     "execution_count": 75,
     "metadata": {},
     "output_type": "execute_result"
    }
   ],
   "source": [
    "movies.split(sep=',')"
   ]
  }
 ],
 "metadata": {
  "kernelspec": {
   "display_name": "Python 3 (ipykernel)",
   "language": "python",
   "name": "python3"
  },
  "language_info": {
   "codemirror_mode": {
    "name": "ipython",
    "version": 3
   },
   "file_extension": ".py",
   "mimetype": "text/x-python",
   "name": "python",
   "nbconvert_exporter": "python",
   "pygments_lexer": "ipython3",
   "version": "3.9.13"
  }
 },
 "nbformat": 4,
 "nbformat_minor": 5
}
