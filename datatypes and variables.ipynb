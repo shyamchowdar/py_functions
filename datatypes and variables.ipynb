{
 "cells": [
  {
   "cell_type": "code",
   "execution_count": 2,
   "id": "f1fb9ed3",
   "metadata": {},
   "outputs": [
    {
     "name": "stdout",
     "output_type": "stream",
     "text": [
      "hello shyam \n",
      "good morning\n",
      "how are you \n",
      "name: shyam\n",
      "age: 21\n",
      "location:jntuh college\n"
     ]
    }
   ],
   "source": [
    "print('hello ' 'shyam ')\n",
    "print('good morning') \n",
    "print('how are you ')\n",
    "print('name: shyam')\n",
    "print('age: 21')\n",
    "print('location:jntuh college')"
   ]
  },
  {
   "cell_type": "markdown",
   "id": "2fe5ea22",
   "metadata": {},
   "source": [
    "## data types"
   ]
  },
  {
   "cell_type": "code",
   "execution_count": 4,
   "id": "96a04f8a",
   "metadata": {},
   "outputs": [
    {
     "name": "stdout",
     "output_type": "stream",
     "text": [
      "<class 'int'>\n",
      "<class 'float'>\n",
      "<class 'str'>\n",
      "<class 'bool'>\n"
     ]
    }
   ],
   "source": [
    "print(type(1))\n",
    "print(type(1.0))\n",
    "print(type('1'))\n",
    "print(type(True))"
   ]
  },
  {
   "cell_type": "code",
   "execution_count": 19,
   "id": "107ef09f",
   "metadata": {},
   "outputs": [
    {
     "name": "stdout",
     "output_type": "stream",
     "text": [
      "shyam\n",
      "cricket\n",
      "dhoni\n"
     ]
    }
   ],
   "source": [
    "name='shyam'\n",
    "fav_sport='cricket'\n",
    "fav_player='dhoni'\n",
    "print(name)\n",
    "print(fav_sport)\n",
    "print(fav_player)"
   ]
  },
  {
   "cell_type": "code",
   "execution_count": 13,
   "id": "45c8144e",
   "metadata": {},
   "outputs": [],
   "source": [
    "value='shyam'"
   ]
  },
  {
   "cell_type": "code",
   "execution_count": 14,
   "id": "d94ba7fe",
   "metadata": {},
   "outputs": [
    {
     "data": {
      "text/plain": [
       "'hello shyam,how about a movie today'"
      ]
     },
     "execution_count": 14,
     "metadata": {},
     "output_type": "execute_result"
    }
   ],
   "source": [
    "f\"hello {value},how about a movie today\""
   ]
  },
  {
   "cell_type": "code",
   "execution_count": 16,
   "id": "30d3793b",
   "metadata": {},
   "outputs": [
    {
     "name": "stdout",
     "output_type": "stream",
     "text": [
      "enter your nameshyam\n",
      "how are you shyam\n"
     ]
    }
   ],
   "source": [
    "name=input('enter your name' )\n",
    "print(f\"how are you {name}\")"
   ]
  },
  {
   "cell_type": "markdown",
   "id": "3ecb999e",
   "metadata": {},
   "source": [
    "## variables"
   ]
  },
  {
   "cell_type": "code",
   "execution_count": 25,
   "id": "b1003693",
   "metadata": {},
   "outputs": [
    {
     "name": "stdout",
     "output_type": "stream",
     "text": [
      "3 7\n"
     ]
    }
   ],
   "source": [
    "var1=3\n",
    "var2=7\n",
    "print(var1,var2)\n"
   ]
  },
  {
   "cell_type": "code",
   "execution_count": 28,
   "id": "81d8beee",
   "metadata": {},
   "outputs": [
    {
     "name": "stdout",
     "output_type": "stream",
     "text": [
      "21 98\n"
     ]
    }
   ],
   "source": [
    "var2=98\n",
    "var1=21\n",
    "print(var1,var2)"
   ]
  },
  {
   "cell_type": "code",
   "execution_count": 34,
   "id": "471f402b",
   "metadata": {},
   "outputs": [
    {
     "name": "stdout",
     "output_type": "stream",
     "text": [
      "21 98\n"
     ]
    }
   ],
   "source": [
    "temp=var1\n",
    "var1=var2\n",
    "var2=temp\n",
    "print(var1,var2)"
   ]
  },
  {
   "cell_type": "code",
   "execution_count": 43,
   "id": "2c98865b",
   "metadata": {},
   "outputs": [
    {
     "name": "stdout",
     "output_type": "stream",
     "text": [
      "78 32\n"
     ]
    }
   ],
   "source": [
    "var1=32\n",
    "var2=78\n",
    "var3=prices=78,32\n",
    "print(var2,var1)"
   ]
  },
  {
   "cell_type": "code",
   "execution_count": 44,
   "id": "864f61fd",
   "metadata": {},
   "outputs": [
    {
     "name": "stdout",
     "output_type": "stream",
     "text": [
      "(78, 32) (78, 32)\n"
     ]
    }
   ],
   "source": [
    "var2=prices\n",
    "prices=var1\n",
    "var1=var2\n",
    "print(var1,var2)"
   ]
  },
  {
   "cell_type": "markdown",
   "id": "12c76330",
   "metadata": {},
   "source": [
    "## types of operators"
   ]
  },
  {
   "cell_type": "code",
   "execution_count": 38,
   "id": "46f5ba60",
   "metadata": {},
   "outputs": [
    {
     "name": "stdout",
     "output_type": "stream",
     "text": [
      "1+2 =3 = addition\n",
      "1/2 =0.5 = division\n",
      "1//2 =0 = floor division\n",
      "1*2 =2 = multiplicaton\n",
      "1-2 =-1 = subraction\n",
      "1%2 = 1 =modulus\n",
      "1**2 = 1 = exponentation\n"
     ]
    }
   ],
   "source": [
    "print(f'1+2 ={1+2} = addition')\n",
    "print(f'1/2 ={1/2} = division')\n",
    "print(f'1//2 ={1//2} = floor division')\n",
    "print(f'1*2 ={1*2} = multiplicaton')\n",
    "print(f'1-2 ={1-2} = subraction')\n",
    "print(f'1%2 = {1%2} =modulus')\n",
    "print(f'1**2 = {1**2} = exponentation')"
   ]
  },
  {
   "cell_type": "code",
   "execution_count": null,
   "id": "4d37b282",
   "metadata": {},
   "outputs": [],
   "source": []
  }
 ],
 "metadata": {
  "kernelspec": {
   "display_name": "Python 3 (ipykernel)",
   "language": "python",
   "name": "python3"
  },
  "language_info": {
   "codemirror_mode": {
    "name": "ipython",
    "version": 3
   },
   "file_extension": ".py",
   "mimetype": "text/x-python",
   "name": "python",
   "nbconvert_exporter": "python",
   "pygments_lexer": "ipython3",
   "version": "3.9.13"
  }
 },
 "nbformat": 4,
 "nbformat_minor": 5
}
